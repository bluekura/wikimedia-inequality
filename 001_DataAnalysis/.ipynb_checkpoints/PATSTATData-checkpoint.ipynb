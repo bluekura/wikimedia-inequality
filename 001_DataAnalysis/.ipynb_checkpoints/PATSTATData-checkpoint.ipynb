{
 "cells": [
  {
   "cell_type": "markdown",
   "metadata": {},
   "source": [
    "# Note\n",
    "PATSTAT DATA is not public. If you want to use, please purchase your own data at https://www.epo.org/searching-for-patents/business/patstat.html"
   ]
  },
  {
   "cell_type": "code",
   "execution_count": null,
   "metadata": {},
   "outputs": [],
   "source": [
    "%matplotlib inline  \n",
    "import glob\n",
    "import zipfile\n",
    "import gc\n",
    "import csv\n",
    "import pandas as pd\n",
    "import matplotlib.pyplot as plt\n",
    "\n",
    "datadir = \"\" # Directories of PATSTAT Data\n",
    "\n",
    "def gini(list_of_values):\n",
    "    if(list_of_values.count(list_of_values[0]) == len(list_of_values)):\n",
    "        if(list_of_values[0] == 0):\n",
    "            return -1\n",
    "        else:\n",
    "            return 0\n",
    "    sorted_list = sorted(list_of_values)\n",
    "    height, area = 0, 0\n",
    "    for value in sorted_list:\n",
    "        height += value\n",
    "        area += height - value / 2.\n",
    "    fair_area = height * len(list_of_values) / 2\n",
    "    return (fair_area - area) / fair_area\n"
   ]
  },
  {
   "cell_type": "code",
   "execution_count": null,
   "metadata": {},
   "outputs": [],
   "source": [
    "tls201_files = glob.glob(datadir + \"tls201*.zip\")\n",
    "print tls201_files\n",
    "tls201 = pd.concat((pd.read_csv(f, compression=\"zip\", usecols=['appln_id','appln_auth','appln_nr','appln_kind',\n",
    "                                                               'appln_filing_year', 'granted']) for f in tls201_files))"
   ]
  },
  {
   "cell_type": "code",
   "execution_count": null,
   "metadata": {
    "collapsed": true
   },
   "outputs": [],
   "source": [
    "tls207_files = glob.glob(datadir + \"tls207*.zip\")\n",
    "tls207 = pd.concat((pd.read_csv(f, compression=\"zip\",  usecols=['person_id', 'appln_id','applt_seq_nr','invt_seq_nr']) for f in tls207_files))"
   ]
  },
  {
   "cell_type": "code",
   "execution_count": null,
   "metadata": {
    "collapsed": true
   },
   "outputs": [],
   "source": [
    "tls201['appln_auth'] = map(lambda x: str(x).upper(), tls201['appln_auth'])\n",
    "tls201_count_test_01 = tls201.groupby(['appln_auth']).count()"
   ]
  },
  {
   "cell_type": "code",
   "execution_count": null,
   "metadata": {
    "collapsed": true
   },
   "outputs": [],
   "source": [
    "del(tls201_count_test_01)"
   ]
  },
  {
   "cell_type": "code",
   "execution_count": null,
   "metadata": {},
   "outputs": [],
   "source": [
    "tls_207_201 = tls207.merge(tls201)"
   ]
  },
  {
   "cell_type": "code",
   "execution_count": null,
   "metadata": {
    "collapsed": true
   },
   "outputs": [],
   "source": [
    "tls_207_201_FILTERED = (tls_207_201[:][(tls_207_201[\"appln_kind\"] ==\"A \") & (tls_207_201[\"appln_filing_year\"] >= 2000) \n",
    "                                      & (tls_207_201[\"appln_filing_year\"] <= 2017)])\n"
   ]
  },
  {
   "cell_type": "code",
   "execution_count": null,
   "metadata": {},
   "outputs": [],
   "source": [
    "len(tls_207_201_FILTERED)"
   ]
  },
  {
   "cell_type": "code",
   "execution_count": null,
   "metadata": {},
   "outputs": [],
   "source": [
    "tls_207_201_FILTERED_APPLT_ONLY = (tls_207_201_FILTERED[:][(tls_207_201_FILTERED[\"applt_seq_nr\"] != 0)])\n",
    "tls_207_201_FILTERED_INVT_ONLY = (tls_207_201_FILTERED[:][(tls_207_201_FILTERED[\"invt_seq_nr\"] != 0)])"
   ]
  },
  {
   "cell_type": "code",
   "execution_count": null,
   "metadata": {
    "scrolled": true
   },
   "outputs": [],
   "source": [
    "tls_207_201_FILTERED_APPLT_ONLY_AID = tls_207_201_FILTERED_APPLT_ONLY.groupby('appln_auth')['appln_id'].nunique()"
   ]
  },
  {
   "cell_type": "code",
   "execution_count": null,
   "metadata": {
    "scrolled": true
   },
   "outputs": [],
   "source": [
    "tls_207_201_FILTERED_APPLT_ONLY_PID = tls_207_201_FILTERED_APPLT_ONLY.groupby('appln_auth')['person_id'].nunique()"
   ]
  },
  {
   "cell_type": "code",
   "execution_count": null,
   "metadata": {
    "scrolled": true
   },
   "outputs": [],
   "source": [
    "tls_207_201_FILTERED_INVT_ONLY_AID = tls_207_201_FILTERED_INVT_ONLY.groupby('appln_auth')['appln_id'].nunique()"
   ]
  },
  {
   "cell_type": "code",
   "execution_count": null,
   "metadata": {
    "scrolled": true
   },
   "outputs": [],
   "source": [
    "tls_207_201_FILTERED_INVT_ONLY_PID = tls_207_201_FILTERED_INVT_ONLY.groupby('appln_auth')['person_id'].nunique()"
   ]
  },
  {
   "cell_type": "code",
   "execution_count": null,
   "metadata": {},
   "outputs": [],
   "source": [
    "APPLT_COUNT = pd.concat([tls_207_201_FILTERED_APPLT_ONLY_PID, tls_207_201_FILTERED_APPLT_ONLY_AID], axis=1)"
   ]
  },
  {
   "cell_type": "code",
   "execution_count": null,
   "metadata": {},
   "outputs": [],
   "source": [
    "plt.plot(APPLT_COUNT['person_id'], APPLT_COUNT['appln_id'], 'o')\n",
    "plt.yscale('log')\n",
    "plt.xscale('log')\n",
    "plt.xlabel('Number of applicants')\n",
    "plt.ylabel('Number of patents')"
   ]
  },
  {
   "cell_type": "code",
   "execution_count": null,
   "metadata": {
    "collapsed": true
   },
   "outputs": [],
   "source": [
    "INVT_COUNT = pd.concat([tls_207_201_FILTERED_INVT_ONLY_PID, tls_207_201_FILTERED_INVT_ONLY_AID], axis=1)"
   ]
  },
  {
   "cell_type": "code",
   "execution_count": null,
   "metadata": {},
   "outputs": [],
   "source": [
    "plt.plot(INVT_COUNT['person_id'], INVT_COUNT['appln_id'], 'o')\n",
    "plt.yscale('log')\n",
    "plt.xscale('log')\n",
    "plt.xlabel('Number of inventors')\n",
    "plt.ylabel('Number of patents')"
   ]
  },
  {
   "cell_type": "code",
   "execution_count": null,
   "metadata": {},
   "outputs": [],
   "source": [
    "tls_207_201_FILTERED_AID = tls_207_201_FILTERED.groupby('appln_auth')['appln_id'].nunique()\n",
    "tls_207_201_FILTERED_PID = tls_207_201_FILTERED.groupby('appln_auth')['person_id'].nunique()\n",
    "ALL_COUNT = pd.concat([tls_207_201_FILTERED_PID, tls_207_201_FILTERED_AID], axis=1)\n",
    "plt.plot(ALL_COUNT['person_id'], ALL_COUNT['appln_id'], 'o')\n",
    "plt.yscale('log')\n",
    "plt.xscale('log')\n",
    "plt.xlabel('Number of distinct inventors/applicants')\n",
    "plt.ylabel('Number of patents')"
   ]
  },
  {
   "cell_type": "code",
   "execution_count": null,
   "metadata": {},
   "outputs": [],
   "source": [
    "tls_207_201_FILTERED_APPLT_ONLY_PIDCOUNT = tls_207_201_FILTERED_APPLT_ONLY.groupby(['appln_auth', 'person_id']).count()"
   ]
  },
  {
   "cell_type": "code",
   "execution_count": null,
   "metadata": {},
   "outputs": [],
   "source": [
    "tls_207_201_FILTERED_INVT_ONLY_PIDCOUNT = tls_207_201_FILTERED_INVT_ONLY.groupby(['appln_auth', 'person_id']).count()\n",
    "tls_207_201_FILTERED_APPLT_ONLY_PIDCOUNT = tls_207_201_FILTERED_APPLT_ONLY.groupby(['appln_auth', 'person_id']).count()"
   ]
  },
  {
   "cell_type": "code",
   "execution_count": null,
   "metadata": {},
   "outputs": [],
   "source": [
    "gc.collect()"
   ]
  },
  {
   "cell_type": "code",
   "execution_count": null,
   "metadata": {},
   "outputs": [],
   "source": [
    "gc.collect()\n",
    "gini(list(tls_207_201_FILTERED_APPLT_ONLY_PIDCOUNT.loc[\"KR\"]['appln_id'].values))"
   ]
  },
  {
   "cell_type": "code",
   "execution_count": null,
   "metadata": {
    "scrolled": true
   },
   "outputs": [],
   "source": [
    "countries = tls_207_201_FILTERED_APPLT_ONLY_PIDCOUNT.index.get_level_values(0)\n",
    "set(countries)\n",
    "GINI_APPLT = []\n",
    "for ct in list(set(countries)):\n",
    "    templist = [ct, gini(list(tls_207_201_FILTERED_APPLT_ONLY_PIDCOUNT.loc[ct]['appln_id'].values))]\n",
    "    GINI_APPLT.append(templist)\n",
    "    #print(ct, gini(list(tls_207_201_FILTERED_APPLT_ONLY_PIDCOUNT.loc[ct]['appln_id'].values)))\n",
    "print GINI_APPLT"
   ]
  },
  {
   "cell_type": "code",
   "execution_count": null,
   "metadata": {},
   "outputs": [],
   "source": [
    "countries = tls_207_201_FILTERED_INVT_ONLY_PIDCOUNT.index.get_level_values(0)\n",
    "set(countries)\n",
    "GINI_INVT = []\n",
    "for ct in list(set(countries)):\n",
    "    templist = [ct, gini(list(tls_207_201_FILTERED_INVT_ONLY_PIDCOUNT.loc[ct]['appln_id'].values))]\n",
    "    GINI_INVT.append(templist)\n",
    "    #print(ct, gini(list(tls_207_201_FILTERED_APPLT_ONLY_PIDCOUNT.loc[ct]['appln_id'].values)))\n",
    "#print GINI_INVT"
   ]
  },
  {
   "cell_type": "code",
   "execution_count": null,
   "metadata": {},
   "outputs": [],
   "source": [
    "print len(GINI_APPLT)"
   ]
  },
  {
   "cell_type": "code",
   "execution_count": null,
   "metadata": {},
   "outputs": [],
   "source": [
    "print len(GINI_INVT)"
   ]
  },
  {
   "cell_type": "code",
   "execution_count": null,
   "metadata": {
    "scrolled": true
   },
   "outputs": [],
   "source": [
    "APPLT_COUNT_GINI = APPLT_COUNT.reset_index().merge(\n",
    "    pd.DataFrame.from_records(GINI_APPLT, columns=['appln_auth','gini_index']), on='appln_auth')\n",
    "plt.plot(APPLT_COUNT_GINI['appln_id'], APPLT_COUNT_GINI['gini_index'], 'o')\n",
    "plt.xscale('log')\n",
    "plt.xlabel('Number of patent')\n",
    "plt.ylabel('Gini index of Number of Patent per applicant')"
   ]
  },
  {
   "cell_type": "code",
   "execution_count": null,
   "metadata": {},
   "outputs": [],
   "source": [
    "APPLT_COUNT_GINI = APPLT_COUNT.reset_index().merge(\n",
    "    pd.DataFrame.from_records(GINI_APPLT, columns=['appln_auth','gini_index']), on='appln_auth')\n",
    "plt.plot(APPLT_COUNT_GINI['person_id'], APPLT_COUNT_GINI['gini_index'], 'o')\n",
    "plt.xscale('log')\n",
    "plt.xlabel('Number of applicants')\n",
    "plt.ylabel('Gini index of Number of Patent per applicant')"
   ]
  },
  {
   "cell_type": "code",
   "execution_count": null,
   "metadata": {},
   "outputs": [],
   "source": [
    "INVT_COUNT_GINI = INVT_COUNT.reset_index().merge(\n",
    "    pd.DataFrame.from_records(GINI_INVT, columns=['appln_auth','gini_index']), on='appln_auth')\n",
    "plt.plot(INVT_COUNT_GINI['appln_id'], INVT_COUNT_GINI['gini_index'], 'o')\n",
    "plt.xscale('log')\n",
    "plt.xlabel('Number of patent')\n",
    "plt.ylabel('Gini index of Number of Patent per inventor')"
   ]
  },
  {
   "cell_type": "code",
   "execution_count": null,
   "metadata": {},
   "outputs": [],
   "source": [
    "INVT_COUNT_GINI = INVT_COUNT.reset_index().merge(\n",
    "    pd.DataFrame.from_records(GINI_INVT, columns=['appln_auth','gini_index']), on='appln_auth')\n",
    "plt.plot(INVT_COUNT_GINI['person_id'], INVT_COUNT_GINI['gini_index'], 'o')\n",
    "plt.xscale('log')\n",
    "plt.xlabel('Number of inventors')\n",
    "plt.ylabel('Gini index of Number of Patent per inventor')"
   ]
  },
  {
   "cell_type": "code",
   "execution_count": null,
   "metadata": {},
   "outputs": [],
   "source": [
    "APPLT_COUNT_GINI.to_csv(\"./output/gini_applicant.csv\", sep=\"\\t\")\n",
    "INVT_COUNT_GINI.to_csv(\"./output/gini_inventor.csv\", sep=\"\\t\" )"
   ]
  }
 ],
 "metadata": {
  "kernelspec": {
   "display_name": "Python 2",
   "language": "python",
   "name": "python2"
  },
  "language_info": {
   "codemirror_mode": {
    "name": "ipython",
    "version": 2
   },
   "file_extension": ".py",
   "mimetype": "text/x-python",
   "name": "python",
   "nbconvert_exporter": "python",
   "pygments_lexer": "ipython2",
   "version": "2.7.15"
  }
 },
 "nbformat": 4,
 "nbformat_minor": 2
}
