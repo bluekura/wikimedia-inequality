{
 "cells": [
  {
   "cell_type": "markdown",
   "metadata": {},
   "source": [
    "# Note\n",
    "SCOPUS DATA is not public. If you want to use, please purchase your own data at https://www.scopus.com/"
   ]
  },
  {
   "cell_type": "code",
   "execution_count": null,
   "metadata": {
    "collapsed": true
   },
   "outputs": [],
   "source": [
    "%matplotlib inline  \n",
    "import glob\n",
    "import zipfile\n",
    "#import multiprocessing as mp\n",
    "import gc\n",
    "#from collections import defaultdict\n",
    "import csv\n",
    "import pandas as pd\n",
    "import matplotlib.pyplot as plt\n",
    "\n",
    "datadir = \"\" # DATADIR for Parsed SCOPUS Data\n",
    "\n",
    "def gini(list_of_values):\n",
    "    if(list_of_values.count(list_of_values[0]) == len(list_of_values)):\n",
    "        if(list_of_values[0] == 0):\n",
    "            return -1\n",
    "        else:\n",
    "            return 0\n",
    "    sorted_list = sorted(list_of_values)\n",
    "    height, area = 0, 0\n",
    "    for value in sorted_list:\n",
    "        height += value\n",
    "        area += height - value / 2.\n",
    "    fair_area = height * len(list_of_values) / 2\n",
    "    return (fair_area - area) / fair_area\n"
   ]
  },
  {
   "cell_type": "code",
   "execution_count": null,
   "metadata": {
    "scrolled": false
   },
   "outputs": [],
   "source": [
    "userinfo_files = glob.glob(datadir + \"*.csv\")\n",
    "print len(userinfo_files)\n",
    "userinfo = pd.concat((pd.read_csv(f, sep=\"\\t\", quotechar = \"\\'\") for f in userinfo_files), ignore_index=True)"
   ]
  },
  {
   "cell_type": "code",
   "execution_count": null,
   "metadata": {},
   "outputs": [],
   "source": [
    "userinfo_filtered = userinfo[:][(userinfo[\"pubdate\"] >= 1996) & (userinfo[\"pubdate\"] <= 2017) & (userinfo[\"eid\"] != \"ERR\")\n",
    "                               & (userinfo[\"auid\"] != \"ERR\") & (userinfo[\"af_country\"] != \"ERR\")]\n"
   ]
  },
  {
   "cell_type": "code",
   "execution_count": null,
   "metadata": {},
   "outputs": [],
   "source": [
    "print(len(userinfo))\n",
    "print(len(userinfo_filtered))\n",
    "gc.collect()"
   ]
  },
  {
   "cell_type": "code",
   "execution_count": null,
   "metadata": {
    "scrolled": true
   },
   "outputs": [],
   "source": [
    "userinfo_filtered_count_authors = userinfo_filtered.groupby('af_country')['auid'].nunique()\n",
    "userinfo_filtered_count_papers = userinfo_filtered.groupby('af_country')['eid'].nunique()\n",
    "userinfo_filtered_count_papers_per_authors = userinfo_filtered.groupby(['af_country', 'auid']).count()"
   ]
  },
  {
   "cell_type": "code",
   "execution_count": null,
   "metadata": {
    "scrolled": true
   },
   "outputs": [],
   "source": [
    "userinfo_temp1 = pd.concat([userinfo_filtered_count_authors, userinfo_filtered_count_papers], axis=1)"
   ]
  },
  {
   "cell_type": "code",
   "execution_count": null,
   "metadata": {},
   "outputs": [],
   "source": [
    "plt.plot(userinfo_temp1['auid'], userinfo_temp1['eid'], 'o')\n",
    "plt.yscale('log')\n",
    "plt.xscale('log')\n",
    "plt.xlabel('Number of authors')\n",
    "plt.ylabel('Number of research articles')"
   ]
  },
  {
   "cell_type": "code",
   "execution_count": null,
   "metadata": {},
   "outputs": [],
   "source": [
    "gc.collect()"
   ]
  },
  {
   "cell_type": "code",
   "execution_count": null,
   "metadata": {},
   "outputs": [],
   "source": [
    "countries = userinfo_filtered_count_papers_per_authors.index.get_level_values(0)\n",
    "print countries\n",
    "GINI_APPLT = []\n",
    "for ct in list(set(countries)):\n",
    "    templist = [ct, gini(list(userinfo_filtered_count_papers_per_authors.loc[ct]['eid'].values))]\n",
    "    GINI_APPLT.append(templist)\n",
    "    #print(ct, gini(list(tls_207_201_FILTERED_APPLT_ONLY_PIDCOUNT.loc[ct]['appln_id'].values)))\n",
    "print GINI_APPLT"
   ]
  },
  {
   "cell_type": "code",
   "execution_count": null,
   "metadata": {
    "scrolled": true
   },
   "outputs": [],
   "source": [
    "userinfo_gini = userinfo_temp1.reset_index().merge(\n",
    "    pd.DataFrame.from_records(GINI_APPLT, columns=['af_country','gini_index']), on='af_country')\n",
    "plt.plot(userinfo_gini['eid'], userinfo_gini['gini_index'], 'o')\n",
    "plt.xscale('log')\n",
    "plt.xlabel('Number of articles')\n",
    "plt.ylabel('Gini index of Number of article per author')"
   ]
  },
  {
   "cell_type": "code",
   "execution_count": null,
   "metadata": {},
   "outputs": [],
   "source": [
    "userinfo_gini = userinfo_temp1.reset_index().merge(\n",
    "    pd.DataFrame.from_records(GINI_APPLT, columns=['af_country','gini_index']), on='af_country')\n",
    "plt.plot(userinfo_gini['auid'], userinfo_gini['gini_index'], 'o')\n",
    "plt.xscale('log')\n",
    "plt.xlabel('Number of authors')\n",
    "plt.ylabel('Gini index of Number of article per author')"
   ]
  },
  {
   "cell_type": "code",
   "execution_count": null,
   "metadata": {
    "collapsed": true
   },
   "outputs": [],
   "source": [
    "userinfo_gini.to_csv(\"./output/gini_scopus_paper.csv\", sep=\"\\t\")"
   ]
  },
  {
   "cell_type": "code",
   "execution_count": null,
   "metadata": {
    "collapsed": true
   },
   "outputs": [],
   "source": []
  }
 ],
 "metadata": {
  "kernelspec": {
   "display_name": "Python 2",
   "language": "python",
   "name": "python2"
  },
  "language_info": {
   "codemirror_mode": {
    "name": "ipython",
    "version": 2
   },
   "file_extension": ".py",
   "mimetype": "text/x-python",
   "name": "python",
   "nbconvert_exporter": "python",
   "pygments_lexer": "ipython2",
   "version": "2.7.15"
  }
 },
 "nbformat": 4,
 "nbformat_minor": 2
}
