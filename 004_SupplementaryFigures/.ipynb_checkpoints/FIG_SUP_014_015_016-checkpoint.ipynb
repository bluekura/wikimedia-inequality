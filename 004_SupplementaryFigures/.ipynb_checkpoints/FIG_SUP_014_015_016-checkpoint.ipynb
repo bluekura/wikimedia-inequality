{
 "cells": [
  {
   "cell_type": "code",
   "execution_count": null,
   "metadata": {
    "collapsed": true
   },
   "outputs": [],
   "source": [
    "%matplotlib inline  \n",
    "import glob\n",
    "import zipfile\n",
    "#import multiprocessing as mp\n",
    "import gc\n",
    "#from collections import defaultdict\n",
    "#import csv\n",
    "import pandas as pd\n",
    "import matplotlib.pyplot as plt\n",
    "import scipy.stats\n",
    "import numpy as np"
   ]
  },
  {
   "cell_type": "code",
   "execution_count": null,
   "metadata": {
    "collapsed": true
   },
   "outputs": [],
   "source": [
    "wikistat = pd.DataFrame.from_csv(\"./data/wikitrafficrank_ISO.txt\", sep = \"\\t\")"
   ]
  },
  {
   "cell_type": "code",
   "execution_count": null,
   "metadata": {
    "collapsed": true
   },
   "outputs": [],
   "source": [
    "ciastat = pd.DataFrame.from_csv(\"./data/CIA_LANGUAGE_MODIFIED.txt\", sep = \"\\t\").reset_index()"
   ]
  },
  {
   "cell_type": "code",
   "execution_count": null,
   "metadata": {
    "collapsed": true
   },
   "outputs": [],
   "source": [
    "primlang = pd.DataFrame.from_csv(\"./data/primary_country_for_lang.txt\", sep = \"\\t\")"
   ]
  },
  {
   "cell_type": "code",
   "execution_count": null,
   "metadata": {
    "collapsed": true
   },
   "outputs": [],
   "source": [
    "GDP_OECD = pd.read_csv(\"./data/OECD data/Economy/Domestic Product/Gross domestic product(GDP).csv\")"
   ]
  },
  {
   "cell_type": "code",
   "execution_count": null,
   "metadata": {
    "collapsed": true
   },
   "outputs": [],
   "source": [
    "ciastat_filtered = ciastat.merge(primlang, on = \"ISO2\")[['prim_lang_code', 'COUNTRY', 'ISO2', 'ISO3', 'POPULATION', 'INTERNET_USER', 'GDP(PPA)']]"
   ]
  },
  {
   "cell_type": "code",
   "execution_count": null,
   "metadata": {
    "collapsed": true
   },
   "outputs": [],
   "source": [
    "wikistat = pd.DataFrame.from_csv(\"./data/Allwiki_output_modify_langinfo.txt\", sep = \",\")"
   ]
  },
  {
   "cell_type": "code",
   "execution_count": null,
   "metadata": {
    "collapsed": true
   },
   "outputs": [],
   "source": [
    "wikistat = wikistat.merge(ciastat_filtered, left_on = \"lang_code\", right_on = \"prim_lang_code\")\n",
    "del wikistat['prim_lang_code']"
   ]
  },
  {
   "cell_type": "code",
   "execution_count": null,
   "metadata": {
    "collapsed": true,
    "scrolled": true
   },
   "outputs": [],
   "source": [
    "tempdf = pd.DataFrame.from_csv(\"./data/UNESCO data/attainment_primary.txt\", sep = \"\\t\")\n",
    "tempdf = tempdf.rename(columns = {'Value':'att_prim'})\n",
    "tempdf = tempdf[:][(tempdf['TIME'] >= 2000) & (tempdf['TIME'] <= 2016)].groupby(\"LOCATION\").mean().reset_index()\n",
    "wikistat = wikistat.merge(tempdf[['LOCATION', 'att_prim']], left_on = \"ISO3\", right_on = \"LOCATION\", how=\"left\")\n",
    "del wikistat['LOCATION']"
   ]
  },
  {
   "cell_type": "code",
   "execution_count": null,
   "metadata": {
    "collapsed": true
   },
   "outputs": [],
   "source": [
    "tempdf = pd.DataFrame.from_csv(\"./data/UNESCO data/attainment_lower_secondary.txt\", sep = \"\\t\")\n",
    "tempdf = tempdf.rename(columns = {'Value':'att_lsec'})\n",
    "tempdf = tempdf[:][(tempdf['TIME'] >= 2000) & (tempdf['TIME'] <= 2016)].groupby(\"LOCATION\").mean().reset_index()\n",
    "wikistat = wikistat.merge(tempdf[['LOCATION', 'att_lsec']], left_on = \"ISO3\", right_on = \"LOCATION\", how=\"left\")\n",
    "del wikistat['LOCATION']"
   ]
  },
  {
   "cell_type": "code",
   "execution_count": null,
   "metadata": {
    "collapsed": true
   },
   "outputs": [],
   "source": [
    "tempdf = pd.DataFrame.from_csv(\"./data/UNESCO data/attainment_upper_secondary.txt\", sep = \"\\t\")\n",
    "tempdf = tempdf.rename(columns = {'Value':'att_usec'})\n",
    "tempdf = tempdf[:][(tempdf['TIME'] >= 2000) & (tempdf['TIME'] <= 2016)].groupby(\"LOCATION\").mean().reset_index()\n",
    "wikistat = wikistat.merge(tempdf[['LOCATION', 'att_usec']], left_on = \"ISO3\", right_on = \"LOCATION\", how=\"left\")\n",
    "del wikistat['LOCATION']"
   ]
  },
  {
   "cell_type": "code",
   "execution_count": null,
   "metadata": {
    "collapsed": true
   },
   "outputs": [],
   "source": [
    "tempdf = pd.DataFrame.from_csv(\"./data/UNESCO data/GDP_market_prices_constant_2010_USD.txt\", sep = \"\\t\")\n",
    "tempdf = tempdf.rename(columns = {'Value':'gdp_marketprice'})\n",
    "tempdf = tempdf[:][(tempdf['TIME'] >= 2000) & (tempdf['TIME'] <= 2016)].groupby(\"LOCATION\").mean().reset_index()\n",
    "tempdf\n",
    "wikistat = wikistat.merge(tempdf[['LOCATION', 'gdp_marketprice']], left_on = \"ISO3\", right_on = \"LOCATION\", how=\"left\")\n",
    "del wikistat['LOCATION']"
   ]
  },
  {
   "cell_type": "code",
   "execution_count": null,
   "metadata": {
    "collapsed": true
   },
   "outputs": [],
   "source": [
    "tempdf = pd.DataFrame.from_csv(\"./data/UNESCO data/GDP_per capita_constant_2011_USD.txt\", sep = \"\\t\")\n",
    "tempdf = tempdf.rename(columns = {'Value':'gdp_percapita'})\n",
    "tempdf = tempdf[:][(tempdf['TIME'] >= 2000) & (tempdf['TIME'] <= 2016)].groupby(\"LOCATION\").mean().reset_index()\n",
    "tempdf\n",
    "wikistat = wikistat.merge(tempdf[['LOCATION', 'gdp_percapita']], left_on = \"ISO3\", right_on = \"LOCATION\", how=\"left\")\n",
    "del wikistat['LOCATION']"
   ]
  },
  {
   "cell_type": "code",
   "execution_count": null,
   "metadata": {
    "collapsed": true
   },
   "outputs": [],
   "source": [
    "tempdf = pd.DataFrame.from_csv(\"./data/UNESCO data/RND_GERD_ALL_2005_USD.txt\", sep = \"\\t\")\n",
    "tempdf = tempdf.rename(columns = {'Value':'rnd_gerd_all'})\n",
    "tempdf = tempdf[:][(tempdf['TIME'] >= 2000) & (tempdf['TIME'] <= 2016)].groupby(\"LOCATION\").mean().reset_index()\n",
    "tempdf\n",
    "wikistat = wikistat.merge(tempdf[['LOCATION', 'rnd_gerd_all']], left_on = \"ISO3\", right_on = \"LOCATION\", how=\"left\")\n",
    "del wikistat['LOCATION']"
   ]
  },
  {
   "cell_type": "code",
   "execution_count": null,
   "metadata": {
    "collapsed": true
   },
   "outputs": [],
   "source": [
    "tempdf = pd.DataFrame.from_csv(\"./data/UNESCO data/RND_GERD_APPLIED_2005_USD.txt\", sep = \"\\t\")\n",
    "tempdf = tempdf.rename(columns = {'Value':'rnd_gerd_app'})\n",
    "tempdf = tempdf[:][(tempdf['TIME'] >= 2000) & (tempdf['TIME'] <= 2016)].groupby(\"LOCATION\").mean().reset_index()\n",
    "tempdf\n",
    "wikistat = wikistat.merge(tempdf[['LOCATION', 'rnd_gerd_app']], left_on = \"ISO3\", right_on = \"LOCATION\", how=\"left\")\n",
    "del wikistat['LOCATION']"
   ]
  },
  {
   "cell_type": "code",
   "execution_count": null,
   "metadata": {
    "collapsed": true
   },
   "outputs": [],
   "source": [
    "tempdf = pd.DataFrame.from_csv(\"./data/UNESCO data/RND_GERD_BASIC_2005_USD.txt\", sep = \"\\t\")\n",
    "tempdf = tempdf.rename(columns = {'Value':'rnd_gerd_bas'})\n",
    "tempdf = tempdf[:][(tempdf['TIME'] >= 2000) & (tempdf['TIME'] <= 2016)].groupby(\"LOCATION\").mean().reset_index()\n",
    "tempdf\n",
    "wikistat = wikistat.merge(tempdf[['LOCATION', 'rnd_gerd_bas']], left_on = \"ISO3\", right_on = \"LOCATION\", how=\"left\")\n",
    "del wikistat['LOCATION']"
   ]
  },
  {
   "cell_type": "code",
   "execution_count": null,
   "metadata": {
    "collapsed": true
   },
   "outputs": [],
   "source": [
    "types = ['wiki', 'wiktionary', 'wikibooks', 'wikiquote', 'wikisource', 'wikinews', 'wikivoyage', 'wikiversity']"
   ]
  },
  {
   "cell_type": "code",
   "execution_count": null,
   "metadata": {
    "collapsed": true,
    "scrolled": true
   },
   "outputs": [],
   "source": [
    "types_map = {'wiki':'Wikipedia',\n",
    "             'wiktionary':'Wiktionary',\n",
    "             'wikibooks':'Wikibooks', \n",
    "             'wikiquote':'Wikiquote',\n",
    "             'wikisource':'Wikisource',\n",
    "             'wikinews':'Wikinews', \n",
    "             'wikivoyage':'Wikivoyage',\n",
    "             'wikiversity':'Wikiversity'}"
   ]
  },
  {
   "cell_type": "code",
   "execution_count": null,
   "metadata": {
    "scrolled": false
   },
   "outputs": [],
   "source": [
    "fig, axes = plt.subplots(nrows=2, ncols=3, figsize=(15,10))\n",
    "\n",
    "graph = pd.DataFrame(columns=[\"$N_e$\", \"$N_p$\", \"$N_a$\", \"$S$\"])\n",
    "for tp in types:\n",
    "    temp_table = wikistat[:][(wikistat[\"type\"] == tp) & (wikistat[\"lang_name\"] != \"\")& (wikistat[\"att_prim\"].notnull())]\n",
    "    tp = types_map[tp] \n",
    "    graph.set_value(tp, '$N_p$', scipy.stats.pearsonr(temp_table['att_prim'], temp_table['4:Num_Editor'])[0])\n",
    "    graph.set_value(tp, '$N_a$', scipy.stats.pearsonr(temp_table['att_prim'], temp_table['6:Num_Article'])[0])\n",
    "    graph.set_value(tp, '$N_e$', scipy.stats.pearsonr(temp_table['att_prim'], temp_table['3:Num_Edit'])[0])\n",
    "    graph.set_value(tp, '$S$', scipy.stats.pearsonr(temp_table['att_prim'], temp_table['7:Wiki_Size'])[0])\n",
    "    \n",
    "graph.index_name = \"Type\"\n",
    "axes[0,0].set_ylabel(\"Pearson correlation for $r_{pri}$\")\n",
    "#axes[0,0].set_ylim((min(graph.values.min() * 1.2, graph.values.min() * 0.8), graph.values.max() * 1.2))\n",
    "axes[0,0].set_ylim(-0.3, 1.2)\n",
    "graph.plot.bar(rot=40, width = 0.8, ax = axes[0,0])\n",
    "\n",
    "graph = pd.DataFrame(columns=[\"$N_e$\", \"$N_p$\", \"$N_a$\", \"$S$\"])\n",
    "for tp in types:\n",
    "    temp_table = wikistat[:][(wikistat[\"type\"] == tp) & (wikistat[\"lang_name\"] != \"\")& (wikistat[\"att_prim\"].notnull())]\n",
    "    tp = types_map[tp]  \n",
    "    graph.set_value(tp, '$N_p$', scipy.stats.kendalltau(temp_table['att_prim'], temp_table['4:Num_Editor'])[0])\n",
    "    graph.set_value(tp, '$N_a$', scipy.stats.kendalltau(temp_table['att_prim'], temp_table['6:Num_Article'])[0])\n",
    "    graph.set_value(tp, '$N_e$', scipy.stats.kendalltau(temp_table['att_prim'], temp_table['3:Num_Edit'])[0])\n",
    "    graph.set_value(tp, '$S$', scipy.stats.kendalltau(temp_table['att_prim'], temp_table['7:Wiki_Size'])[0])\n",
    "\n",
    "graph.index_name = \"Type\"\n",
    "axes[1,0].set_ylabel(\"Kendall-tau correlation for $r_{pri}$\")\n",
    "#axes[1,0].set_ylim((min(graph.values.min() * 1.2, graph.values.min() * 0.8), graph.values.max() * 1.2))\n",
    "axes[1,0].set_ylim(-0.3, 1.2)\n",
    "graph.plot.bar(rot=40, width = 0.8, ax = axes[1,0])\n",
    "\n",
    "graph = pd.DataFrame(columns=[\"$N_e$\", \"$N_p$\", \"$N_a$\", \"$S$\"])\n",
    "for tp in types:\n",
    "    temp_table = wikistat[:][(wikistat[\"type\"] == tp) & (wikistat[\"lang_name\"] != \"\")& (wikistat[\"att_lsec\"].notnull())]\n",
    "    tp = types_map[tp]  \n",
    "    graph.set_value(tp, '$N_p$', scipy.stats.pearsonr(temp_table['att_lsec'], temp_table['4:Num_Editor'])[0])\n",
    "    graph.set_value(tp, '$N_a$', scipy.stats.pearsonr(temp_table['att_lsec'], temp_table['6:Num_Article'])[0])\n",
    "    graph.set_value(tp, '$N_e$', scipy.stats.pearsonr(temp_table['att_lsec'], temp_table['3:Num_Edit'])[0])\n",
    "    graph.set_value(tp, '$S$', scipy.stats.pearsonr(temp_table['att_lsec'], temp_table['7:Wiki_Size'])[0])\n",
    "    \n",
    "\n",
    "graph.index_name = \"Type\"\n",
    "axes[0,1].set_ylabel(\"Pearson correlation for $r_{lsec}$\")\n",
    "#axes[0,1].set_ylim((min(graph.values.min() * 1.2, graph.values.min() * 0.8), graph.values.max() * 1.2))\n",
    "axes[0,1].set_ylim(-0.3, 1.2)\n",
    "graph.plot.bar(rot=40, width = 0.8, ax = axes[0,1])\n",
    "\n",
    "graph = pd.DataFrame(columns=[\"$N_e$\", \"$N_p$\", \"$N_a$\", \"$S$\"])\n",
    "for tp in types:\n",
    "    temp_table = wikistat[:][(wikistat[\"type\"] == tp) & (wikistat[\"lang_name\"] != \"\")& (wikistat[\"att_lsec\"].notnull())]\n",
    "    tp = types_map[tp]         \n",
    "    graph.set_value(tp, '$N_p$', scipy.stats.kendalltau(temp_table['att_lsec'], temp_table['4:Num_Editor'])[0])\n",
    "    graph.set_value(tp, '$N_a$', scipy.stats.kendalltau(temp_table['att_lsec'], temp_table['6:Num_Article'])[0])\n",
    "    graph.set_value(tp, '$N_e$', scipy.stats.kendalltau(temp_table['att_lsec'], temp_table['3:Num_Edit'])[0])\n",
    "    graph.set_value(tp, '$S$', scipy.stats.kendalltau(temp_table['att_lsec'], temp_table['7:Wiki_Size'])[0])\n",
    "\n",
    "graph.index_name = \"Type\"\n",
    "axes[1,1].set_ylabel(\"Kendall-tau correlation for $r_{lsec}$\")\n",
    "#axes[1,1].set_ylim((min(graph.values.min() * 1.2, graph.values.min() * 0.8), graph.values.max() * 1.2))\n",
    "axes[1,1].set_ylim(-0.3, 1.2)\n",
    "graph.plot.bar(rot=40, width = 0.8, ax = axes[1,1])\n",
    "\n",
    "\n",
    "graph = pd.DataFrame(columns=[\"$N_e$\", \"$N_p$\", \"$N_a$\", \"$S$\"])\n",
    "for tp in types:\n",
    "    temp_table = wikistat[:][(wikistat[\"type\"] == tp) & (wikistat[\"lang_name\"] != \"\")& (wikistat[\"att_usec\"].notnull())]\n",
    "    tp = types_map[tp]        \n",
    "    graph.set_value(tp, '$N_p$', scipy.stats.pearsonr(temp_table['att_usec'], temp_table['4:Num_Editor'])[0])\n",
    "    graph.set_value(tp, '$N_a$', scipy.stats.pearsonr(temp_table['att_usec'], temp_table['6:Num_Article'])[0])\n",
    "    graph.set_value(tp, '$N_e$', scipy.stats.pearsonr(temp_table['att_usec'], temp_table['3:Num_Edit'])[0])\n",
    "    graph.set_value(tp, '$S$', scipy.stats.pearsonr(temp_table['att_usec'], temp_table['7:Wiki_Size'])[0])\n",
    "    \n",
    "graph.index_name = \"Type\"\n",
    "axes[0,2].set_ylabel(\"Pearson correlation for $r_{usec}$\")\n",
    "#axes[0,2].set_ylim((min(graph.values.min() * 1.2, graph.values.min() * 0.8), graph.values.max() * 1.2))\n",
    "axes[0,2].set_ylim(-0.3, 1.2)\n",
    "graph.plot.bar(rot=40, width = 0.8, ax = axes[0,2])\n",
    "\n",
    "graph = pd.DataFrame(columns=[\"$N_e$\", \"$N_p$\", \"$N_a$\", \"$S$\"])\n",
    "for tp in types:\n",
    "    temp_table = wikistat[:][(wikistat[\"type\"] == tp) & (wikistat[\"lang_name\"] != \"\")& (wikistat[\"att_usec\"].notnull())]\n",
    "    tp = types_map[tp]  \n",
    "    graph.set_value(tp, '$N_p$', scipy.stats.kendalltau(temp_table['att_usec'], temp_table['4:Num_Editor'])[0])\n",
    "    graph.set_value(tp, '$N_a$', scipy.stats.kendalltau(temp_table['att_usec'], temp_table['6:Num_Article'])[0])\n",
    "    graph.set_value(tp, '$N_e$', scipy.stats.kendalltau(temp_table['att_usec'], temp_table['3:Num_Edit'])[0])\n",
    "    graph.set_value(tp, '$S$', scipy.stats.kendalltau(temp_table['att_usec'], temp_table['7:Wiki_Size'])[0])\n",
    "\n",
    "graph.index_name = \"Type\"\n",
    "axes[1,2].set_ylabel(\"Kendall-tau correlation for $r_{usec}$\")\n",
    "#axes[1,2].set_ylim((min(graph.values.min() * 1.2, graph.values.min() * 0.8), graph.values.max() * 1.2))\n",
    "axes[1,2].set_ylim(-0.3, 1.2)\n",
    "graph.plot.bar(rot=40, width = 0.8, ax = axes[1,2])\n",
    "\n",
    "\n",
    "index = 0\n",
    "labellist = [\"a\", \"b\", \"c\", \"d\", \"e\", \"f\", \"g\", \"h\"]\n",
    "for ax in fig.get_axes():\n",
    "    ax.get_yaxis().set_label_coords(-0.1,0.5)\n",
    "    ax.yaxis.label.set_fontsize(14)\n",
    "    ax.tick_params(axis='x', labelsize=14)\n",
    "    for tick in ax.xaxis.get_majorticklabels():\n",
    "        tick.set_horizontalalignment(\"right\")\n",
    "    ax.legend(loc=2, ncol=4)\n",
    "    ax.text(-0.15, 0.95, labellist[index], fontsize=14, weight='bold', transform=ax.transAxes)\n",
    "    ax.axhline(0, color='black', lw=1)\n",
    "    SHIFT = 0.1\n",
    "    index += 1\n",
    "\n",
    "plt.tight_layout()\n",
    "plt.savefig(\"FIG_SUP_014.pdf\")\n",
    "plt.show()"
   ]
  },
  {
   "cell_type": "code",
   "execution_count": null,
   "metadata": {},
   "outputs": [],
   "source": [
    "fig, axes = plt.subplots(nrows=2, ncols=4, figsize=(20,10))\n",
    "\n",
    "graph = pd.DataFrame(columns=[\"$N_e$\", \"$N_p$\", \"$N_a$\", \"$S$\"])\n",
    "for tp in types:\n",
    "    temp_table = wikistat[:][(wikistat[\"type\"] == tp) & (wikistat[\"lang_name\"] != \"\")& (wikistat[\"POPULATION\"].notnull())]\n",
    "    tp = types_map[tp]     \n",
    "    graph.set_value(tp, '$N_p$', scipy.stats.pearsonr(temp_table['POPULATION'], temp_table['4:Num_Editor'])[0])\n",
    "    graph.set_value(tp, '$N_a$', scipy.stats.pearsonr(temp_table['POPULATION'], temp_table['6:Num_Article'])[0])\n",
    "    graph.set_value(tp, '$N_e$', scipy.stats.pearsonr(temp_table['POPULATION'], temp_table['3:Num_Edit'])[0])\n",
    "    graph.set_value(tp, '$S$', scipy.stats.pearsonr(temp_table['POPULATION'], temp_table['7:Wiki_Size'])[0])\n",
    "    \n",
    "graph.index_name = \"Type\"\n",
    "axes[0,0].set_ylabel(\"Pearson correlation for Population\")\n",
    "#axes[0,0].set_ylim((min(graph.values.min() * 1.2, graph.values.min() * 0.8), graph.values.max() * 1.2))\n",
    "graph.plot.bar(rot=40, width = 0.8, ax = axes[0,0])\n",
    "\n",
    "graph = pd.DataFrame(columns=[\"$N_e$\", \"$N_p$\", \"$N_a$\", \"$S$\"])\n",
    "for tp in types:\n",
    "    temp_table = wikistat[:][(wikistat[\"type\"] == tp) & (wikistat[\"lang_name\"] != \"\")& (wikistat[\"POPULATION\"].notnull())]\n",
    "    if(tp == \"wiki\"):\n",
    "        tp = \"wikipedia\"        \n",
    "    graph.set_value(tp, '$N_p$', scipy.stats.kendalltau(temp_table['POPULATION'], temp_table['4:Num_Editor'])[0])\n",
    "    graph.set_value(tp, '$N_a$', scipy.stats.kendalltau(temp_table['POPULATION'], temp_table['6:Num_Article'])[0])\n",
    "    graph.set_value(tp, '$N_e$', scipy.stats.kendalltau(temp_table['POPULATION'], temp_table['3:Num_Edit'])[0])\n",
    "    graph.set_value(tp, '$S$', scipy.stats.kendalltau(temp_table['POPULATION'], temp_table['7:Wiki_Size'])[0])\n",
    "\n",
    "graph.index_name = \"Type\"\n",
    "axes[1,0].set_ylabel(\"Kendall-tau correlation for Population\")\n",
    "#axes[1,0].set_ylim((min(graph.values.min() * 1.2, graph.values.min() * 0.8), graph.values.max() * 1.2))\n",
    "graph.plot.bar(rot=40, width = 0.8, ax = axes[1,0])\n",
    "\n",
    "graph = pd.DataFrame(columns=[\"$N_e$\", \"$N_p$\", \"$N_a$\", \"$S$\"])\n",
    "for tp in types:\n",
    "    temp_table = wikistat[:][(wikistat[\"type\"] == tp) & (wikistat[\"lang_name\"] != \"\")& (wikistat[\"INTERNET_USER\"].notnull())]\n",
    "    tp = types_map[tp]      \n",
    "    graph.set_value(tp, '$N_p$', scipy.stats.pearsonr(temp_table['INTERNET_USER'], temp_table['4:Num_Editor'])[0])\n",
    "    graph.set_value(tp, '$N_a$', scipy.stats.pearsonr(temp_table['INTERNET_USER'], temp_table['6:Num_Article'])[0])\n",
    "    graph.set_value(tp, '$N_e$', scipy.stats.pearsonr(temp_table['INTERNET_USER'], temp_table['3:Num_Edit'])[0])\n",
    "    graph.set_value(tp, '$S$', scipy.stats.pearsonr(temp_table['INTERNET_USER'], temp_table['7:Wiki_Size'])[0])\n",
    "    \n",
    "graph.index_name = \"Type\"\n",
    "axes[0,1].set_ylabel(\"Pearson correlation for Internet users\")\n",
    "#axes[0,1].set_ylim((min(graph.values.min() * 1.2, graph.values.min() * 0.8), graph.values.max() * 1.2))\n",
    "graph.plot.bar(rot=40, width = 0.8, ax = axes[0,1])\n",
    "\n",
    "graph = pd.DataFrame(columns=[\"$N_e$\", \"$N_p$\", \"$N_a$\", \"$S$\"])\n",
    "for tp in types:\n",
    "    temp_table = wikistat[:][(wikistat[\"type\"] == tp) & (wikistat[\"lang_name\"] != \"\")& (wikistat[\"INTERNET_USER\"].notnull())]\n",
    "    tp = types_map[tp]  \n",
    "    graph.set_value(tp, '$N_p$', scipy.stats.kendalltau(temp_table['INTERNET_USER'], temp_table['4:Num_Editor'])[0])\n",
    "    graph.set_value(tp, '$N_a$', scipy.stats.kendalltau(temp_table['INTERNET_USER'], temp_table['6:Num_Article'])[0])\n",
    "    graph.set_value(tp, '$N_e$', scipy.stats.kendalltau(temp_table['INTERNET_USER'], temp_table['3:Num_Edit'])[0])\n",
    "    graph.set_value(tp, '$S$', scipy.stats.kendalltau(temp_table['INTERNET_USER'], temp_table['7:Wiki_Size'])[0])\n",
    "\n",
    "graph.index_name = \"Type\"\n",
    "axes[1,1].set_ylabel(\"Kendall-tau correlation for Internet users\")\n",
    "#axes[1,1].set_ylim((min(graph.values.min() * 1.2, graph.values.min() * 0.8), graph.values.max() * 1.2))\n",
    "graph.plot.bar(rot=40, width = 0.8, ax = axes[1,1])\n",
    "graph = pd.DataFrame(columns=[\"$N_e$\", \"$N_p$\", \"$N_a$\", \"$S$\"])\n",
    "\n",
    "for tp in types:\n",
    "    temp_table = wikistat[:][(wikistat[\"type\"] == tp) & (wikistat[\"lang_name\"] != \"\")& (wikistat[\"gdp_marketprice\"].notnull())]\n",
    "    tp = types_map[tp]     \n",
    "    graph.set_value(tp, '$N_p$', scipy.stats.pearsonr(temp_table['gdp_marketprice'], temp_table['4:Num_Editor'])[0])\n",
    "    graph.set_value(tp, '$N_a$', scipy.stats.pearsonr(temp_table['gdp_marketprice'], temp_table['6:Num_Article'])[0])\n",
    "    graph.set_value(tp, '$N_e$', scipy.stats.pearsonr(temp_table['gdp_marketprice'], temp_table['3:Num_Edit'])[0])\n",
    "    graph.set_value(tp, '$S$', scipy.stats.pearsonr(temp_table['gdp_marketprice'], temp_table['7:Wiki_Size'])[0])\n",
    "    \n",
    "graph.index_name = \"Type\"\n",
    "axes[0,2].set_ylabel(\"Pearson correlation for total GDP\")\n",
    "#axes[0,2].set_ylim((min(graph.values.min() * 1.2, graph.values.min() * 0.8), graph.values.max() * 1.2))\n",
    "graph.plot.bar(rot=40, width = 0.8, ax = axes[0,2])\n",
    "\n",
    "graph = pd.DataFrame(columns=[\"$N_e$\", \"$N_p$\", \"$N_a$\", \"$S$\"])\n",
    "for tp in types:\n",
    "    temp_table = wikistat[:][(wikistat[\"type\"] == tp) & (wikistat[\"lang_name\"] != \"\")& (wikistat[\"gdp_marketprice\"].notnull())]\n",
    "    tp = types_map[tp]      \n",
    "    graph.set_value(tp, '$N_p$', scipy.stats.kendalltau(temp_table['gdp_marketprice'], temp_table['4:Num_Editor'])[0])\n",
    "    graph.set_value(tp, '$N_a$', scipy.stats.kendalltau(temp_table['gdp_marketprice'], temp_table['6:Num_Article'])[0])\n",
    "    graph.set_value(tp, '$N_e$', scipy.stats.kendalltau(temp_table['gdp_marketprice'], temp_table['3:Num_Edit'])[0])\n",
    "    graph.set_value(tp, '$S$', scipy.stats.kendalltau(temp_table['gdp_marketprice'], temp_table['7:Wiki_Size'])[0])\n",
    "\n",
    "graph.index_name = \"Type\"\n",
    "axes[1,2].set_ylabel(\"Kendall-tau correlation for total GDP\")\n",
    "#axes[1,2].set_ylim((min(graph.values.min() * 1.2, graph.values.min() * 0.8), graph.values.max() * 1.2))\n",
    "graph.plot.bar(rot=40, width = 0.8, ax = axes[1,2])\n",
    "\n",
    "graph = pd.DataFrame(columns=[\"$N_e$\", \"$N_p$\", \"$N_a$\", \"$S$\"])\n",
    "for tp in types:\n",
    "    temp_table = wikistat[:][(wikistat[\"type\"] == tp) & (wikistat[\"lang_name\"] != \"\")& (wikistat[\"gdp_percapita\"].notnull())]\n",
    "    tp = types_map[tp]      \n",
    "    graph.set_value(tp, '$N_p$', scipy.stats.pearsonr(temp_table['gdp_percapita'], temp_table['4:Num_Editor'])[0])\n",
    "    graph.set_value(tp, '$N_a$', scipy.stats.pearsonr(temp_table['gdp_percapita'], temp_table['6:Num_Article'])[0])\n",
    "    graph.set_value(tp, '$N_e$', scipy.stats.pearsonr(temp_table['gdp_percapita'], temp_table['3:Num_Edit'])[0])\n",
    "    graph.set_value(tp, '$S$', scipy.stats.pearsonr(temp_table['gdp_percapita'], temp_table['7:Wiki_Size'])[0])\n",
    "    \n",
    "graph.index_name = \"Type\"\n",
    "axes[0,3].set_ylabel(\"Pearson correlation for GDP per cap.\")\n",
    "#axes[0,3].set_ylim((min(graph.values.min() * 1.2, graph.values.min() * 0.8), graph.values.max() * 1.2))\n",
    "graph.plot.bar(rot=40, width = 0.8, ax = axes[0,3])\n",
    "\n",
    "graph = pd.DataFrame(columns=[\"$N_e$\", \"$N_p$\", \"$N_a$\", \"$S$\"])\n",
    "for tp in types:\n",
    "    temp_table = wikistat[:][(wikistat[\"type\"] == tp) & (wikistat[\"lang_name\"] != \"\")& (wikistat[\"gdp_percapita\"].notnull())]\n",
    "    tp = types_map[tp]      \n",
    "    graph.set_value(tp, '$N_p$', scipy.stats.kendalltau(temp_table['gdp_percapita'], temp_table['4:Num_Editor'])[0])\n",
    "    graph.set_value(tp, '$N_a$', scipy.stats.kendalltau(temp_table['gdp_percapita'], temp_table['6:Num_Article'])[0])\n",
    "    graph.set_value(tp, '$N_e$', scipy.stats.kendalltau(temp_table['gdp_percapita'], temp_table['3:Num_Edit'])[0])\n",
    "    graph.set_value(tp, '$S$', scipy.stats.kendalltau(temp_table['gdp_percapita'], temp_table['7:Wiki_Size'])[0])\n",
    "\n",
    "graph.index_name = \"Type\"\n",
    "axes[1,3].set_ylabel(\"Pearson correlation for GDP per cap.\")\n",
    "#axes[1,3].set_ylim((min(graph.values.min() * 1.2, graph.values.min() * 0.8), graph.values.max() * 1.2))\n",
    "graph.plot.bar(rot=40, width = 0.8, ax = axes[1,3])\n",
    "\n",
    "\n",
    "index = 0\n",
    "labellist = [\"a\", \"b\", \"c\", \"d\", \"e\", \"f\", \"g\", \"h\"]\n",
    "for ax in fig.get_axes():\n",
    "    ax.get_yaxis().set_label_coords(-0.1,0.5)\n",
    "    ax.yaxis.label.set_fontsize(14)\n",
    "    ax.tick_params(axis='x', labelsize=14)\n",
    "    for tick in ax.xaxis.get_majorticklabels():\n",
    "        tick.set_horizontalalignment(\"right\")\n",
    "    ax.legend(loc=2, ncol=4)\n",
    "    ax.text(0.9, 0.9, labellist[index], fontsize=14, weight='bold', transform=ax.transAxes)\n",
    "    ax.set_ylim(-0.3, 1.2)\n",
    "    ax.axhline(0, color='black', lw=1)   \n",
    "    SHIFT = 0.1\n",
    "    index += 1\n",
    "\n",
    "#axes[1,3].legend(loc=0)\n",
    "\n",
    "\n",
    "plt.tight_layout()\n",
    "plt.savefig(\"FIG_SUP_015.pdf\")\n",
    "plt.show()"
   ]
  },
  {
   "cell_type": "code",
   "execution_count": null,
   "metadata": {},
   "outputs": [],
   "source": [
    "fig, axes = plt.subplots(nrows=2, ncols=3, figsize=(15,10))\n",
    "\n",
    "graph = pd.DataFrame(columns=[\"$N_e$\", \"$N_p$\", \"$N_a$\", \"$S$\"])\n",
    "for tp in types:\n",
    "    temp_table = wikistat[:][(wikistat[\"type\"] == tp) & (wikistat[\"lang_name\"] != \"\")& (wikistat[\"rnd_gerd_all\"].notnull())]\n",
    "    tp = types_map[tp]          \n",
    "    graph.set_value(tp, '$N_p$', scipy.stats.pearsonr(temp_table['rnd_gerd_all'], temp_table['4:Num_Editor'])[0])\n",
    "    graph.set_value(tp, '$N_a$', scipy.stats.pearsonr(temp_table['rnd_gerd_all'], temp_table['6:Num_Article'])[0])\n",
    "    graph.set_value(tp, '$N_e$', scipy.stats.pearsonr(temp_table['rnd_gerd_all'], temp_table['3:Num_Edit'])[0])\n",
    "    graph.set_value(tp, '$S$', scipy.stats.pearsonr(temp_table['rnd_gerd_all'], temp_table['7:Wiki_Size'])[0])\n",
    "    \n",
    "graph.index_name = \"Type\"\n",
    "axes[0,0].set_ylabel(\"Pearson correlation for GERD(all)\")\n",
    "axes[0,0].set_ylim((min(graph.values.min() * 1.2, graph.values.min() * 0.8), graph.values.max() * 1.2))\n",
    "graph.plot.bar(rot=40, width = 0.8, ax = axes[0,0])\n",
    "\n",
    "graph = pd.DataFrame(columns=[\"$N_e$\", \"$N_p$\", \"$N_a$\", \"$S$\"])\n",
    "for tp in types:\n",
    "    temp_table = wikistat[:][(wikistat[\"type\"] == tp) & (wikistat[\"lang_name\"] != \"\")& (wikistat[\"rnd_gerd_all\"].notnull())]\n",
    "    tp = types_map[tp]         \n",
    "    graph.set_value(tp, '$N_p$', scipy.stats.kendalltau(temp_table['rnd_gerd_all'], temp_table['4:Num_Editor'])[0])\n",
    "    graph.set_value(tp, '$N_a$', scipy.stats.kendalltau(temp_table['rnd_gerd_all'], temp_table['6:Num_Article'])[0])\n",
    "    graph.set_value(tp, '$N_e$', scipy.stats.kendalltau(temp_table['rnd_gerd_all'], temp_table['3:Num_Edit'])[0])\n",
    "    graph.set_value(tp, '$S$', scipy.stats.kendalltau(temp_table['rnd_gerd_all'], temp_table['7:Wiki_Size'])[0])\n",
    "\n",
    "graph.index_name = \"Type\"\n",
    "axes[1,0].set_ylabel(\"Kendall-tau correlation for GERD(all)\")\n",
    "axes[1,0].set_ylim((min(graph.values.min() * 1.2, graph.values.min() * 0.8), graph.values.max() * 1.2))\n",
    "graph.plot.bar(rot=40, width = 0.8, ax = axes[1,0])\n",
    "\n",
    "graph = pd.DataFrame(columns=[\"$N_e$\", \"$N_p$\", \"$N_a$\", \"$S$\"])\n",
    "for tp in types:\n",
    "    temp_table = wikistat[:][(wikistat[\"type\"] == tp) & (wikistat[\"lang_name\"] != \"\")& (wikistat[\"rnd_gerd_bas\"].notnull())]\n",
    "    tp = types_map[tp]          \n",
    "    graph.set_value(tp, '$N_p$', scipy.stats.pearsonr(temp_table['rnd_gerd_bas'], temp_table['4:Num_Editor'])[0])\n",
    "    graph.set_value(tp, '$N_a$', scipy.stats.pearsonr(temp_table['rnd_gerd_bas'], temp_table['6:Num_Article'])[0])\n",
    "    graph.set_value(tp, '$N_e$', scipy.stats.pearsonr(temp_table['rnd_gerd_bas'], temp_table['3:Num_Edit'])[0])\n",
    "    graph.set_value(tp, '$S$', scipy.stats.pearsonr(temp_table['rnd_gerd_bas'], temp_table['7:Wiki_Size'])[0])\n",
    "    \n",
    "graph.index_name = \"Type\"\n",
    "axes[0,1].set_ylabel(\"Pearson correlation for GERD(basic)\")\n",
    "axes[0,1].set_ylim((min(graph.values.min() * 1.2, graph.values.min() * 0.8), graph.values.max() * 1.2))\n",
    "graph.plot.bar(rot=40, width = 0.8, ax = axes[0,1])\n",
    "\n",
    "graph = pd.DataFrame(columns=[\"$N_e$\", \"$N_p$\", \"$N_a$\", \"$S$\"])\n",
    "for tp in types:\n",
    "    temp_table = wikistat[:][(wikistat[\"type\"] == tp) & (wikistat[\"lang_name\"] != \"\")& (wikistat[\"rnd_gerd_bas\"].notnull())]\n",
    "    tp = types_map[tp]          \n",
    "    graph.set_value(tp, '$N_p$', scipy.stats.kendalltau(temp_table['rnd_gerd_bas'], temp_table['4:Num_Editor'])[0])\n",
    "    graph.set_value(tp, '$N_a$', scipy.stats.kendalltau(temp_table['rnd_gerd_bas'], temp_table['6:Num_Article'])[0])\n",
    "    graph.set_value(tp, '$N_e$', scipy.stats.kendalltau(temp_table['rnd_gerd_bas'], temp_table['3:Num_Edit'])[0])\n",
    "    graph.set_value(tp, '$S$', scipy.stats.kendalltau(temp_table['rnd_gerd_bas'], temp_table['7:Wiki_Size'])[0])\n",
    "\n",
    "graph.index_name = \"Type\"\n",
    "axes[1,1].set_ylabel(\"Kendall-tau correlation for GERD(basic)\")\n",
    "axes[1,1].set_ylim((min(graph.values.min() * 1.2, graph.values.min() * 0.8), graph.values.max() * 1.2))\n",
    "graph.plot.bar(rot=40, width = 0.8, ax = axes[1,1])\n",
    "\n",
    "graph = pd.DataFrame(columns=[\"$N_e$\", \"$N_p$\", \"$N_a$\", \"$S$\"])\n",
    "for tp in types:\n",
    "    temp_table = wikistat[:][(wikistat[\"type\"] == tp) & (wikistat[\"lang_name\"] != \"\")& (wikistat[\"rnd_gerd_app\"].notnull())]\n",
    "    tp = types_map[tp]          \n",
    "    graph.set_value(tp, '$N_p$', scipy.stats.pearsonr(temp_table['rnd_gerd_app'], temp_table['4:Num_Editor'])[0])\n",
    "    graph.set_value(tp, '$N_a$', scipy.stats.pearsonr(temp_table['rnd_gerd_app'], temp_table['6:Num_Article'])[0])\n",
    "    graph.set_value(tp, '$N_e$', scipy.stats.pearsonr(temp_table['rnd_gerd_app'], temp_table['3:Num_Edit'])[0])\n",
    "    graph.set_value(tp, '$S$', scipy.stats.pearsonr(temp_table['rnd_gerd_app'], temp_table['7:Wiki_Size'])[0])\n",
    "    \n",
    "graph.index_name = \"Type\"\n",
    "axes[0,2].set_ylabel(\"Pearson correlation for GERD(applied)\")\n",
    "axes[0,2].set_ylim((min(graph.values.min() * 1.2, graph.values.min() * 0.8), graph.values.max() * 1.2))\n",
    "graph.plot.bar(rot=40, width = 0.8, ax = axes[0,2])\n",
    "\n",
    "graph = pd.DataFrame(columns=[\"$N_e$\", \"$N_p$\", \"$N_a$\", \"$S$\"])\n",
    "for tp in types:\n",
    "    temp_table = wikistat[:][(wikistat[\"type\"] == tp) & (wikistat[\"lang_name\"] != \"\")& (wikistat[\"rnd_gerd_app\"].notnull())]\n",
    "    tp = types_map[tp]         \n",
    "    graph.set_value(tp, '$N_p$', scipy.stats.kendalltau(temp_table['rnd_gerd_app'], temp_table['4:Num_Editor'])[0])\n",
    "    graph.set_value(tp, '$N_a$', scipy.stats.kendalltau(temp_table['rnd_gerd_app'], temp_table['6:Num_Article'])[0])\n",
    "    graph.set_value(tp, '$N_e$', scipy.stats.kendalltau(temp_table['rnd_gerd_app'], temp_table['3:Num_Edit'])[0])\n",
    "    graph.set_value(tp, '$S$', scipy.stats.kendalltau(temp_table['rnd_gerd_app'], temp_table['7:Wiki_Size'])[0])\n",
    "\n",
    "graph.index_name = \"Type\"\n",
    "axes[1,2].set_ylabel(\"Kendall-tau correlation for GERD(applied)\")\n",
    "axes[1,2].set_ylim((min(graph.values.min() * 1.2, graph.values.min() * 0.8), graph.values.max() * 1.2))\n",
    "graph.plot.bar(rot=40, width = 0.8, ax = axes[1,2])\n",
    "\n",
    "index = 0\n",
    "labellist = [\"a\", \"b\", \"c\", \"d\", \"e\", \"f\", \"g\", \"h\"]\n",
    "for ax in fig.get_axes():\n",
    "    ax.get_yaxis().set_label_coords(-0.1,0.5)\n",
    "    ax.yaxis.label.set_fontsize(14)\n",
    "    ax.tick_params(axis='x', labelsize=14)\n",
    "    for tick in ax.xaxis.get_majorticklabels():\n",
    "        tick.set_horizontalalignment(\"right\")\n",
    "    ax.legend(loc=2, ncol=4)   \n",
    "    ax.text(0.9, 0.9, labellist[index], fontsize=14, weight='bold', transform=ax.transAxes)\n",
    "    ax.set_ylim(-0.3, 1.2)\n",
    "    ax.axhline(0, color='black', lw=1)       \n",
    "    SHIFT = 0.1\n",
    "    index += 1\n",
    "\n",
    "\n",
    "plt.tight_layout()\n",
    "plt.savefig(\"FIG_SUP_016.pdf\")\n",
    "plt.show()"
   ]
  },
  {
   "cell_type": "code",
   "execution_count": null,
   "metadata": {
    "collapsed": true
   },
   "outputs": [],
   "source": []
  }
 ],
 "metadata": {
  "kernelspec": {
   "display_name": "Python 2",
   "language": "python",
   "name": "python2"
  },
  "language_info": {
   "codemirror_mode": {
    "name": "ipython",
    "version": 2
   },
   "file_extension": ".py",
   "mimetype": "text/x-python",
   "name": "python",
   "nbconvert_exporter": "python",
   "pygments_lexer": "ipython2",
   "version": "2.7.15"
  }
 },
 "nbformat": 4,
 "nbformat_minor": 2
}
