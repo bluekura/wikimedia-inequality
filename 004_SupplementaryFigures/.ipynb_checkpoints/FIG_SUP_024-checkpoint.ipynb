{
 "cells": [
  {
   "cell_type": "code",
   "execution_count": 1,
   "metadata": {},
   "outputs": [],
   "source": [
    "%matplotlib inline  \n",
    "#K = 0.4\n",
    "import random\n",
    "import math\n",
    "import sys\n",
    "import matplotlib.pyplot as plt\n",
    "from multiprocessing import Pool\n",
    "\n",
    "def calc_motvation(t):\n",
    "    if(t == 0):\n",
    "        return 1\n",
    "    else:\n",
    "        return pow(t, motiv_decay)\n",
    "\n",
    "def calc_attachment(num_edit_history):\n",
    "    return pow(num_edit_history, attach_increase)\n",
    "\n",
    "def calc_shorterm_memory(period_last_edit):\n",
    "    return math.exp(shorterm_mem_decay * period_last_edit) + 1\n",
    "\n",
    "def gini(list_of_values):\n",
    "    if(list_of_values.count(list_of_values[0]) == len(list_of_values)):\n",
    "        if(list_of_values[0] == 0):\n",
    "            return -1\n",
    "        else:\n",
    "            return 0\n",
    "    sorted_list = sorted(list_of_values)\n",
    "    height, area = 0, 0\n",
    "    for value in sorted_list:\n",
    "        height += value\n",
    "        area += height - value / 2.\n",
    "    fair_area = height * len(list_of_values) / 2\n",
    "    return (fair_area - area) / fair_area\n",
    "\n",
    "def isNotNumber(s):\n",
    "    try:\n",
    "        float(s)\n",
    "        return False\n",
    "    except ValueError:\n",
    "        return True\n",
    "\n",
    "def dot(K, L):\n",
    "   if len(K) != len(L):\n",
    "      return 0\n",
    "\n",
    "   return sum(i[0] * i[1] for i in zip(K, L))\n",
    "\n",
    "def pearson_1d(x, y):\n",
    "    \"\"\" Pearson product-moment correlation of vectors `x` and `y`\n",
    "\n",
    "    Parameters\n",
    "    ----------\n",
    "    x : array shape (N,)\n",
    "        One-dimensional array to correlate with `y`\n",
    "    y : array shape (N,)\n",
    "        One dimensional array to correlate with `x`\n",
    "\n",
    "    Returns\n",
    "    -------\n",
    "    r_xy : scalar\n",
    "        Pearson product-moment correlation of vectors `x` and `y`.\n",
    "    \"\"\"\n",
    "    # Mean-center x -> mc_x\n",
    "    # Mean-center y -> mc_y\n",
    "    # a : Get sum of products of mc_x, mc_y\n",
    "    # b : Get sum of products of mc_x on mc_x\n",
    "    # c : Get sum of products of mc_y on mc_y\n",
    "    # return a / (sqrt(b) * sqrt(c))\n",
    "    mc_x = [i - float(sum(x))/float(len(x)) for i in x]\n",
    "    mc_y = [j - float(sum(y))/float(len(y)) for j in y]\n",
    "    a = dot(mc_x, mc_y)\n",
    "    b = dot(mc_x, mc_x)\n",
    "    c = dot(mc_y, mc_y)\n",
    "    return a / (math.sqrt(b) * math.sqrt(c))"
   ]
  },
  {
   "cell_type": "code",
   "execution_count": 2,
   "metadata": {},
   "outputs": [],
   "source": [
    "born_rate = 0.001 # probability to born a new agnet\n",
    "motiv_decay = -0.4 # factor to increase the attachment ~ f(n) = t ^ motiv_decay\n",
    "shorterm_mem_decay = -0.001 # factor to decrease the short-term memory ~ f(t) = exp( shorterm_mem_decay -1)\n",
    "attach_increase = 1 # factor to increase the attachment ~ f(n) = n ^ attach_increase\n",
    "remove_prob = 1e-02\n",
    "\n",
    "\n",
    "#born_rate = float(sys.argv[2]) # probability to born a new agnet\n",
    "#motiv_decay = float(sys.argv[3]) # factor to increase the attachment ~ f(n) = t ^ motiv_decay\n",
    "#shorterm_mem_decay = float(sys.argv[4]) # factor to decrease the short-term memory ~ f(t) = exp( shorterm_mem_decay -1)\n",
    "#attach_increase = float(sys.argv[5]) # factor to increase the attachment ~ f(n) = n ^ attach_increase\n",
    "#remove_prob = float(sys.argv[6])\n",
    "\n",
    "max_ensemble = 10\n",
    "max_edit_step = 50000000\n",
    "\n",
    "print_res = 10000 # Resolution for printing long-term gini index from the onset\n",
    "shorterm_print_res = 10000 # Resolution for short-term gini index from the last short-term gini point\n",
    "point_resolution = 100000"
   ]
  },
  {
   "cell_type": "code",
   "execution_count": 3,
   "metadata": {},
   "outputs": [
    {
     "name": "stdout",
     "output_type": "stream",
     "text": [
      "0\n",
      "1\n",
      "2\n",
      "3\n",
      "4\n",
      "5\n",
      "6\n",
      "7\n",
      "8\n",
      "9\n"
     ]
    }
   ],
   "source": [
    "cur_ensemble = 0\n",
    "num_editor = []\n",
    "for j in range(max_edit_step / print_res + 1):  \n",
    "    num_editor.append(0)\n",
    "while(cur_ensemble < max_ensemble):\n",
    "    print cur_ensemble\n",
    "    cur_edit_index = 1\n",
    "    insert_date = {}\n",
    "    last_edit_time = {}\n",
    "    edit_history = {}\n",
    "    short_edit_history = {}\n",
    "    edit_record = []\n",
    "    editor_list = []\n",
    "    for i in range(cur_edit_index):\n",
    "        insert_date[i] = 0\n",
    "        last_edit_time[i] = 0\n",
    "        edit_history[i] = 0\n",
    "    editor_list.append(0)\n",
    "    edit_step = 0\n",
    "    while (edit_step < max_edit_step):\n",
    "        edit_cand_ind = random.randrange(0,len(editor_list))\n",
    "        edit_cand = editor_list[edit_cand_ind]\n",
    "        cur_prob = calc_motvation(edit_step - insert_date[edit_cand]) * calc_attachment(edit_history[edit_cand] + 1) * calc_shorterm_memory(edit_step - last_edit_time[edit_cand])\n",
    "        #print cur_prob\n",
    "        if(random.random() < cur_prob):\n",
    "            edit_history[edit_cand] = edit_history[edit_cand] + 1\n",
    "            if(edit_cand in short_edit_history):\n",
    "                short_edit_history[edit_cand] = short_edit_history[edit_cand] + 1\n",
    "            else:\n",
    "                short_edit_history[edit_cand] = 1\n",
    "            edit_step = edit_step + 1\n",
    "            edit_record.append(edit_cand)\n",
    "            #if(edit_cand < 10):\n",
    "            if (edit_step % print_res == 0 and edit_step >= print_res):\n",
    "                #print edit_step, cur_edit_index\n",
    "                num_editor[edit_step / print_res] = num_editor[edit_step / print_res] + cur_edit_index / float(max_ensemble)\n",
    "        elif(cur_prob < remove_prob):\n",
    "            editor_list.pop(edit_cand_ind)\n",
    "        if(random.random() < born_rate):\n",
    "            last_edit_time[cur_edit_index] = edit_step\n",
    "            insert_date[cur_edit_index] = edit_step\n",
    "            edit_history[cur_edit_index] = 1\n",
    "            edit_record.append(cur_edit_index)\n",
    "            editor_list.append(cur_edit_index)\n",
    "            cur_edit_index = cur_edit_index + 1\n",
    "            edit_step = edit_step + 1\n",
    "\n",
    "            if (edit_step % print_res == 0 and edit_step >= print_res):\n",
    "                #print edit_step, cur_edit_index\n",
    "                num_editor[edit_step / print_res] = num_editor[edit_step / print_res] + cur_edit_index / float(max_ensemble)\n",
    "    point_index = 0\n",
    "    cur_ensemble = cur_ensemble + 1\n",
    "\n"
   ]
  },
  {
   "cell_type": "code",
   "execution_count": 4,
   "metadata": {},
   "outputs": [
    {
     "name": "stdout",
     "output_type": "stream",
     "text": [
      "5001\n",
      "5001\n"
     ]
    },
    {
     "data": {
      "image/png": "[encoded data removed]",
      "text/plain": [
       "<matplotlib.figure.Figure at 0x7fccda90e7d0>"
      ]
     },
     "metadata": {},
     "output_type": "display_data"
    }
   ],
   "source": [
    "print len(num_editor)\n",
    "plt.xscale('log')\n",
    "plt.yscale('log')\n",
    "#plt.title(types[i])\n",
    "plt.xlabel(\"$N_e$\")\n",
    "plt.ylabel(\"$N_p$\")\n",
    "x = range(0, max_edit_step+print_res, print_res)\n",
    "print len(x)\n",
    "plt.scatter(x, num_editor)\n",
    "plt.xlim(print_res, max_edit_step+print_res)\n",
    "plt.ylim(1,)\n",
    "plt.show()\n",
    "plt.close()"
   ]
  },
  {
   "cell_type": "code",
   "execution_count": 5,
   "metadata": {},
   "outputs": [
    {
     "name": "stdout",
     "output_type": "stream",
     "text": [
      "5001\n",
      "5001\n"
     ]
    },
    {
     "data": {
      "image/png": "[encoded data removed]",
      "text/plain": [
       "<matplotlib.figure.Figure at 0x7fccd8655250>"
      ]
     },
     "metadata": {},
     "output_type": "display_data"
    }
   ],
   "source": [
    "print len(num_editor)\n",
    "#plt.xscale('log')\n",
    "#plt.yscale('log')\n",
    "#plt.title(types[i])\n",
    "plt.xlabel(\"$N_e$\")\n",
    "plt.ylabel(\"$N_p$\")\n",
    "x = range(0, max_edit_step+print_res, print_res)\n",
    "print len(x)\n",
    "plt.scatter(x, num_editor)\n",
    "plt.show()"
   ]
  },
  {
   "cell_type": "code",
   "execution_count": 6,
   "metadata": {},
   "outputs": [
    {
     "name": "stdout",
     "output_type": "stream",
     "text": [
      "LinregressResult(slope=0.9802832178084558, intercept=-6.693075429444165, rvalue=0.9990707203371084, pvalue=1.16675009703864e-24, stderr=0.010256948411764034)\n"
     ]
    }
   ],
   "source": [
    "import scipy.stats\n",
    "import numpy as np\n",
    "print scipy.stats.linregress(np.log(x[1:20]), np.log(num_editor[1:20]))"
   ]
  },
  {
   "cell_type": "code",
   "execution_count": 7,
   "metadata": {},
   "outputs": [
    {
     "name": "stdout",
     "output_type": "stream",
     "text": [
      "LinregressResult(slope=1.2653092516901392, intercept=-10.44047547057352, rvalue=0.9993552394270562, pvalue=0.0, stderr=0.0006442433516392339)\n"
     ]
    }
   ],
   "source": [
    "import scipy.stats\n",
    "import numpy as np\n",
    "print scipy.stats.linregress(np.log(x[20:]), np.log(num_editor[20:]))"
   ]
  },
  {
   "cell_type": "code",
   "execution_count": 10,
   "metadata": {},
   "outputs": [
    {
     "name": "stdout",
     "output_type": "stream",
     "text": [
      "1.2653092516901392\n",
      "5001\n",
      "5001\n"
     ]
    },
    {
     "data": {
      "image/png": "[encoded data removed]",
      "text/plain": [
       "<matplotlib.figure.Figure at 0x7fccd85abed0>"
      ]
     },
     "metadata": {},
     "output_type": "display_data"
    }
   ],
   "source": [
    "linreg_start = 20\n",
    "linreg = scipy.stats.linregress(np.log(x[linreg_start:]), np.log(num_editor[linreg_start:]))\n",
    "linreg_early = scipy.stats.linregress(np.log(x[1:linreg_start]), np.log(num_editor[1:linreg_start]))\n",
    "print linreg.slope\n",
    "print len(num_editor)\n",
    "fn = np.exp(linreg.intercept) * np.power(x, linreg.slope)\n",
    "fn2 = np.exp(linreg.intercept) * np.power(x, 1)\n",
    "fn3 = np.exp(linreg_early.intercept) * np.power(x, linreg_early.slope)\n",
    "plt.xscale('log')\n",
    "plt.yscale('log')\n",
    "#plt.title(types[i])\n",
    "plt.xlabel(\"$N_e$\", fontsize=14)\n",
    "plt.ylabel(\"$N_p$\", fontsize=14)\n",
    "x = range(0, max_edit_step+print_res, print_res)\n",
    "t = range(0, max_edit_step+print_res, print_res)\n",
    "print len(x)\n",
    "plt.scatter(x, num_editor, color = \"skyblue\")\n",
    "plt.plot(t, fn, '--', color = \"red\", label = \"$y \\sim x^{1.27}$\")\n",
    "plt.plot(t, fn3, '-.', color = \"green\", label = \"$y \\sim x^{0.98}$\")\n",
    "plt.plot(t, fn2, ':', color = \"black\", label = \"$y \\sim x$\")\n",
    "plt.legend(loc=4)\n",
    "plt.xlim(print_res, max_edit_step+print_res)\n",
    "plt.ylim(1,)\n",
    "plt.savefig(\"./FIG_SUP_024.pdf\")\n",
    "plt.show()\n",
    "plt.close()"
   ]
  },
  {
   "cell_type": "code",
   "execution_count": 11,
   "metadata": {},
   "outputs": [],
   "source": [
    "dataout = \"./k_0.4_ne_np_ens10.tsv\"\n",
    "f_out = open(dataout, \"w\")\n",
    "for i in range(len(x)):\n",
    "    f_out.write(str(x[i]) + \"\\t\" + str(num_editor[i]) + \"\\n\")"
   ]
  },
  {
   "cell_type": "code",
   "execution_count": null,
   "metadata": {},
   "outputs": [],
   "source": []
  }
 ],
 "metadata": {
  "kernelspec": {
   "display_name": "Python 2",
   "language": "python",
   "name": "python2"
  },
  "language_info": {
   "codemirror_mode": {
    "name": "ipython",
    "version": 2
   },
   "file_extension": ".py",
   "mimetype": "text/x-python",
   "name": "python",
   "nbconvert_exporter": "python",
   "pygments_lexer": "ipython2",
   "version": "2.7.15"
  }
 },
 "nbformat": 4,
 "nbformat_minor": 2
}
