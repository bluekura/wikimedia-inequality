{
 "cells": [
  {
   "cell_type": "code",
   "execution_count": null,
   "metadata": {
    "collapsed": true
   },
   "outputs": [],
   "source": [
    "%matplotlib inline  \n",
    "import glob\n",
    "import zipfile\n",
    "#import multiprocessing as mp\n",
    "import gc\n",
    "#from collections import defaultdict\n",
    "#import csv\n",
    "import pandas as pd\n",
    "import matplotlib.pyplot as plt\n",
    "import scipy.stats\n",
    "import numpy as np"
   ]
  },
  {
   "cell_type": "code",
   "execution_count": null,
   "metadata": {
    "collapsed": true
   },
   "outputs": [],
   "source": [
    "languser_table = pd.read_csv(\"./data/lang_user.txt\", sep=\"\\t\")"
   ]
  },
  {
   "cell_type": "code",
   "execution_count": null,
   "metadata": {
    "collapsed": true
   },
   "outputs": [],
   "source": [
    "final_table = pd.read_csv(\"./data/Allwiki_output_modify_langinfo.txt\", index_col=0)"
   ]
  },
  {
   "cell_type": "code",
   "execution_count": null,
   "metadata": {
    "collapsed": true
   },
   "outputs": [],
   "source": [
    "langusertemp = languser_table.loc[languser_table['lang_code'] == \"zh\"]['L1 speakers'].values"
   ]
  },
  {
   "cell_type": "code",
   "execution_count": null,
   "metadata": {
    "collapsed": true
   },
   "outputs": [],
   "source": [
    "final_table = final_table.merge(languser_table, on='lang_code')"
   ]
  },
  {
   "cell_type": "code",
   "execution_count": null,
   "metadata": {
    "collapsed": true
   },
   "outputs": [],
   "source": [
    "types = set(final_table['type'])\n",
    "types.remove(\"wikimedia\")\n",
    "types = ['wiki', 'wiktionary', 'wikibooks', 'wikiquote', 'wikisource', 'wikinews', 'wikivoyage', 'wikiversity']\n",
    "types_map = {'wiki':'Wikipedia',\n",
    "             'wiktionary':'Wiktionary',\n",
    "             'wikibooks':'Wikibooks', \n",
    "             'wikiquote':'Wikiquote',\n",
    "             'wikisource':'Wikisource',\n",
    "             'wikinews':'Wikinews', \n",
    "             'wikivoyage':'Wikivoyage',\n",
    "             'wikiversity':'Wikiversity'}"
   ]
  },
  {
   "cell_type": "code",
   "execution_count": null,
   "metadata": {},
   "outputs": [],
   "source": [
    "fig, axes = plt.subplots(nrows=2, ncols=4, figsize=(20,10))\n",
    "\n",
    "graph = pd.DataFrame(columns=[\"L1\", \"L2\", \"Total\"])\n",
    "for tp in types:   \n",
    "    temp_table = final_table[:][(final_table[\"type\"] == tp) & (final_table[\"lang_name\"] != \"\")]\n",
    "    tp = types_map[tp] \n",
    "    graph.set_value(tp, 'L1', scipy.stats.pearsonr(temp_table['L1 speakers'], temp_table['3:Num_Edit'])[0])\n",
    "    graph.set_value(tp, 'L2', scipy.stats.pearsonr(temp_table['L2 speakers'], temp_table['3:Num_Edit'])[0])\n",
    "    graph.set_value(tp, 'Total', scipy.stats.pearsonr(temp_table['Total speakers'], temp_table['3:Num_Edit'])[0])\n",
    "\n",
    "graph.index_name = \"Type\"\n",
    "axes[0,0].set_ylabel(\"Pearson correlation for $N_e$\")\n",
    "axes[0,0].set_ylim((min(graph.values.min() * 1.2, graph.values.min() * 0.8), graph.values.max() * 1.2))\n",
    "graph.plot.bar(rot=40, width = 0.8, ax = axes[0,0])\n",
    "\n",
    "graph = pd.DataFrame(columns=[\"L1\", \"L2\", \"Total\"])\n",
    "for tp in types:\n",
    "    temp_table = final_table[:][(final_table[\"type\"] == tp) & (final_table[\"lang_name\"] != \"\")]\n",
    "    if(tp == \"wiki\"):\n",
    "        tp = \"wikipedia\"        \n",
    "    graph.set_value(tp, 'L1', scipy.stats.kendalltau(temp_table['L1 speakers'], temp_table['3:Num_Edit'])[0])\n",
    "    graph.set_value(tp, 'L2', scipy.stats.kendalltau(temp_table['L2 speakers'], temp_table['3:Num_Edit'])[0])\n",
    "    graph.set_value(tp, 'Total', scipy.stats.kendalltau(temp_table['Total speakers'], temp_table['3:Num_Edit'])[0])\n",
    "axes[1,0].axhline(0, color='black', lw=1)\n",
    "graph.index_name = \"Type\"\n",
    "axes[1,0].set_ylabel(\"Kendall-tau correlation for $N_e$\")\n",
    "axes[1,0].set_ylim((min(graph.values.min() * 1.2, graph.values.min() * 0.8), graph.values.max() * 1.2))\n",
    "graph.plot.bar(rot=40, width = 0.8, ax = axes[1,0])\n",
    "\n",
    "graph = pd.DataFrame(columns=[\"L1\", \"L2\", \"Total\"])\n",
    "for tp in types:\n",
    "    temp_table = final_table[:][(final_table[\"type\"] == tp) & (final_table[\"lang_name\"] != \"\") ]\n",
    "    tp = types_map[tp] \n",
    "    graph.set_value(tp, 'L1', scipy.stats.pearsonr(temp_table['L1 speakers'], temp_table['4:Num_Editor'])[0])\n",
    "    graph.set_value(tp, 'L2', scipy.stats.pearsonr(temp_table['L2 speakers'], temp_table['4:Num_Editor'])[0])\n",
    "    graph.set_value(tp, 'Total', scipy.stats.pearsonr(temp_table['Total speakers'], temp_table['4:Num_Editor'])[0])\n",
    "\n",
    "graph.index_name = \"Type\"\n",
    "graph.plot.bar(rot=40, width = 0.8, ax = axes[0,1])\n",
    "axes[0,1].set_ylabel(\"Pearson correlation for $N_p$\")\n",
    "axes[0,1].set_ylim((min(graph.values.min() * 1.2, graph.values.min() * 0.8), graph.values.max() * 1.2))\n",
    "\n",
    "\n",
    "graph = pd.DataFrame(columns=[\"L1\", \"L2\", \"Total\"])\n",
    "for tp in types:\n",
    "    temp_table = final_table[:][(final_table[\"type\"] == tp) & (final_table[\"lang_name\"] != \"\")]\n",
    "    tp = types_map[tp] \n",
    "    graph.set_value(tp, 'L1', scipy.stats.kendalltau(temp_table['L1 speakers'], temp_table['4:Num_Editor'])[0])\n",
    "    graph.set_value(tp, 'L2', scipy.stats.kendalltau(temp_table['L2 speakers'], temp_table['4:Num_Editor'])[0])\n",
    "    graph.set_value(tp, 'Total', scipy.stats.kendalltau(temp_table['Total speakers'], temp_table['4:Num_Editor'])[0])\n",
    "\n",
    "graph.index_name = \"Type\"\n",
    "graph.plot.bar(rot=40, width = 0.8, ax = axes[1,1])\n",
    "axes[1,1].set_ylabel(\"Kendall-tau correlation for $N_p$\")\n",
    "axes[1,1].set_ylim((min(graph.values.min() * 1.2, graph.values.min() * 0.8), graph.values.max() * 1.2))\n",
    "\n",
    "\n",
    "graph = pd.DataFrame(columns=[\"L1\", \"L2\", \"Total\"])\n",
    "for tp in types:\n",
    "    temp_table = final_table[:][(final_table[\"type\"] == tp) & (final_table[\"lang_name\"] != \"\")]\n",
    "    tp = types_map[tp]   \n",
    "    graph.set_value(tp, 'L1', scipy.stats.pearsonr(temp_table['L1 speakers'], temp_table['6:Num_Article'])[0])\n",
    "    graph.set_value(tp, 'L2', scipy.stats.pearsonr(temp_table['L2 speakers'], temp_table['6:Num_Article'])[0])\n",
    "    graph.set_value(tp, 'Total', scipy.stats.pearsonr(temp_table['Total speakers'], temp_table['6:Num_Article'])[0])\n",
    "\n",
    "graph.index_name = \"Type\"\n",
    "axes[0,2].set_ylabel(\"Pearson correlation for $N_a$\")\n",
    "axes[0,2].set_ylim((min(graph.values.min() * 1.2, graph.values.min() * 0.8), graph.values.max() * 1.2))\n",
    "graph.plot.bar(rot=40, width = 0.8, ax = axes[0,2])  \n",
    "    \n",
    "graph = pd.DataFrame(columns=[\"L1\", \"L2\", \"Total\"])\n",
    "for tp in types:\n",
    "    temp_table = final_table[:][(final_table[\"type\"] == tp) & (final_table[\"lang_name\"] != \"\")]\n",
    "    tp = types_map[tp]       \n",
    "    graph.set_value(tp, 'L1', scipy.stats.kendalltau(temp_table['L1 speakers'], temp_table['6:Num_Article'])[0])\n",
    "    graph.set_value(tp, 'L2', scipy.stats.kendalltau(temp_table['L2 speakers'], temp_table['6:Num_Article'])[0])\n",
    "    graph.set_value(tp, 'Total', scipy.stats.kendalltau(temp_table['Total speakers'], temp_table['6:Num_Article'])[0])\n",
    "\n",
    "graph.index_name = \"Type\"\n",
    "axes[1,2].set_ylabel(\"Kendall-tau correlation for $N_a$\")\n",
    "axes[1,2].set_ylim((min(graph.values.min() * 1.2, graph.values.min() * 0.8), graph.values.max() * 1.2))\n",
    "axes[1,2].axhline(0, color='black', lw=1)\n",
    "graph.plot.bar(rot=40, width = 0.8, ax = axes[1,2])  \n",
    "\n",
    "graph = pd.DataFrame(columns=[\"L1\", \"L2\", \"Total\"])\n",
    "for tp in types:\n",
    "    temp_table = final_table[:][(final_table[\"type\"] == tp) & (final_table[\"lang_name\"] != \"\")]\n",
    "    tp = types_map[tp] \n",
    "    graph.set_value(tp, 'L1', scipy.stats.pearsonr(temp_table['L1 speakers'], temp_table['7:Wiki_Size'])[0])\n",
    "    graph.set_value(tp, 'L2', scipy.stats.pearsonr(temp_table['L2 speakers'], temp_table['7:Wiki_Size'])[0])\n",
    "    graph.set_value(tp, 'Total', scipy.stats.pearsonr(temp_table['Total speakers'], temp_table['7:Wiki_Size'])[0])\n",
    "\n",
    "graph.index_name = \"Type\"\n",
    "axes[0,3].set_ylabel(\"Pearson correlation for $S$\")\n",
    "axes[0,3].set_ylim((min(graph.values.min() * 1.2, graph.values.min() * 0.8), graph.values.max() * 1.2))\n",
    "graph.plot.bar(rot=40, width = 0.8, ax = axes[0,3])  \n",
    "\n",
    "graph = pd.DataFrame(columns=[\"L1\", \"L2\", \"Total\"])\n",
    "for tp in types:\n",
    "    temp_table = final_table[:][(final_table[\"type\"] == tp) & (final_table[\"lang_name\"] != \"\")]\n",
    "    tp = types_map[tp]      \n",
    "    graph.set_value(tp, 'L1', scipy.stats.kendalltau(temp_table['L1 speakers'], temp_table['7:Wiki_Size'])[0])\n",
    "    graph.set_value(tp, 'L2', scipy.stats.kendalltau(temp_table['L2 speakers'], temp_table['7:Wiki_Size'])[0])\n",
    "    graph.set_value(tp, 'Total', scipy.stats.kendalltau(temp_table['Total speakers'], temp_table['7:Wiki_Size'])[0])\n",
    "\n",
    "graph.index_name = \"Type\"\n",
    "axes[1,3].set_ylabel(\"Kendall-tau correlation for $S$\")\n",
    "axes[1,3].set_ylim((min(graph.values.min() * 1.2, graph.values.min() * 0.8), graph.values.max() * 1.2))\n",
    "graph.plot.bar(rot=40, width = 0.8, ax = axes[1,3])  \n",
    "\n",
    "index = 0\n",
    "labellist = [\"a\", \"b\", \"c\", \"d\", \"e\", \"f\", \"g\", \"h\"]\n",
    "for ax in fig.get_axes():\n",
    "    ax.get_yaxis().set_label_coords(-0.08,0.5)\n",
    "    ax.yaxis.label.set_fontsize(14)\n",
    "    ax.tick_params(axis='x', labelsize=14)\n",
    "    for tick in ax.xaxis.get_majorticklabels():\n",
    "        tick.set_horizontalalignment(\"right\")\n",
    "    ax.legend(loc=2)\n",
    "    ax.text(0.9, 0.9, labellist[index], fontsize=14, weight='bold', transform=ax.transAxes)\n",
    "    ax.set_ylim(-0.3, 1.2)\n",
    "    ax.axhline(0, color='black', lw=1)       \n",
    "    \n",
    "    ax.text(-0.11, 0.95, labellist[index], fontsize=14, weight='bold', transform=ax.transAxes)\n",
    "    index += 1\n",
    "    \n",
    "\n",
    "plt.tight_layout()\n",
    "plt.savefig(\"FIG_SUP_012.pdf\")\n",
    "plt.show()"
   ]
  }
 ],
 "metadata": {
  "kernelspec": {
   "display_name": "Python 2",
   "language": "python",
   "name": "python2"
  },
  "language_info": {
   "codemirror_mode": {
    "name": "ipython",
    "version": 2
   },
   "file_extension": ".py",
   "mimetype": "text/x-python",
   "name": "python",
   "nbconvert_exporter": "python",
   "pygments_lexer": "ipython2",
   "version": "2.7.15"
  }
 },
 "nbformat": 4,
 "nbformat_minor": 2
}
