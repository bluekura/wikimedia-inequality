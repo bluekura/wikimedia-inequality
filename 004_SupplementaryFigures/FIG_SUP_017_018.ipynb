{
 "cells": [
  {
   "cell_type": "code",
   "execution_count": null,
   "metadata": {
    "collapsed": true
   },
   "outputs": [],
   "source": [
    "%matplotlib inline  \n",
    "import glob\n",
    "import zipfile\n",
    "#import multiprocessing as mp\n",
    "import gc\n",
    "#from collections import defaultdict\n",
    "import csv\n",
    "import pandas as pd\n",
    "import matplotlib.pyplot as plt\n",
    "import scipy.stats\n"
   ]
  },
  {
   "cell_type": "code",
   "execution_count": null,
   "metadata": {
    "collapsed": true
   },
   "outputs": [],
   "source": [
    "wikistat = pd.DataFrame.from_csv(\"./data/wikitrafficrank_ISO.txt\", sep = \"\\t\")"
   ]
  },
  {
   "cell_type": "code",
   "execution_count": null,
   "metadata": {
    "collapsed": true
   },
   "outputs": [],
   "source": [
    "ciastat = pd.DataFrame.from_csv(\"./data/CIA_LANGUAGE_MODIFIED.txt\", sep = \"\\t\").reset_index()"
   ]
  },
  {
   "cell_type": "code",
   "execution_count": null,
   "metadata": {
    "collapsed": true
   },
   "outputs": [],
   "source": [
    "primlang = pd.DataFrame.from_csv(\"./data/primary_country_for_lang.txt\", sep = \"\\t\")"
   ]
  },
  {
   "cell_type": "code",
   "execution_count": null,
   "metadata": {
    "collapsed": true
   },
   "outputs": [],
   "source": [
    "GDP_OECD = pd.read_csv(\"./OECD data/Economy/Domestic Product/Gross domestic product(GDP).csv\")"
   ]
  },
  {
   "cell_type": "code",
   "execution_count": null,
   "metadata": {
    "collapsed": true
   },
   "outputs": [],
   "source": [
    "ciastat_filtered = ciastat.merge(primlang, on = \"ISO2\")[['prim_lang_code', 'COUNTRY', 'ISO2', 'ISO3', 'POPULATION', 'INTERNET_USER', 'GDP(PPA)']]"
   ]
  },
  {
   "cell_type": "code",
   "execution_count": null,
   "metadata": {
    "collapsed": true
   },
   "outputs": [],
   "source": [
    "wikistat = pd.DataFrame.from_csv(\"./data/Allwiki_output_modify_langinfo.txt\", sep = \",\")"
   ]
  },
  {
   "cell_type": "code",
   "execution_count": null,
   "metadata": {
    "collapsed": true
   },
   "outputs": [],
   "source": [
    "wikistat = wikistat.merge(ciastat_filtered, left_on = \"lang_code\", right_on = \"prim_lang_code\")\n",
    "del wikistat['prim_lang_code']"
   ]
  },
  {
   "cell_type": "code",
   "execution_count": null,
   "metadata": {
    "scrolled": true
   },
   "outputs": [],
   "source": [
    "patent_applicant = pd.DataFrame.from_csv(\"./data/sup_r001_gini_applicant.csv\", sep = \"\\t\")"
   ]
  },
  {
   "cell_type": "code",
   "execution_count": null,
   "metadata": {
    "collapsed": true
   },
   "outputs": [],
   "source": [
    "applnstat = wikistat.merge(patent_applicant, left_on = \"ISO2\", right_on = \"appln_auth\")"
   ]
  },
  {
   "cell_type": "code",
   "execution_count": null,
   "metadata": {
    "collapsed": true
   },
   "outputs": [],
   "source": [
    "types = ['wiki', 'wiktionary', 'wikibooks', 'wikiquote', 'wikisource', 'wikinews', 'wikivoyage', 'wikiversity']\n",
    "types_map = {'wiki':'Wikipedia',\n",
    "             'wiktionary':'Wiktionary',\n",
    "             'wikibooks':'Wikibooks', \n",
    "             'wikiquote':'Wikiquote',\n",
    "             'wikisource':'Wikisource',\n",
    "             'wikinews':'Wikinews', \n",
    "             'wikivoyage':'Wikivoyage',\n",
    "             'wikiversity':'Wikiversity'}"
   ]
  },
  {
   "cell_type": "code",
   "execution_count": null,
   "metadata": {
    "scrolled": false
   },
   "outputs": [],
   "source": [
    "fig, axes = plt.subplots(nrows=2, ncols=3, figsize=(15,10))\n",
    "\n",
    "graph = pd.DataFrame(columns=[\"$N_p$\", \"$N_a$\", \"$N_e$\", \"$S$\"])\n",
    "for tp in types:\n",
    "    temp_table = applnstat[:][(applnstat[\"type\"] == tp) & (applnstat[\"lang_name\"] != \"\")& (applnstat[\"person_id\"].notnull())]\n",
    "    tp = types_map[tp]     \n",
    "    graph.set_value(tp, '$N_p$', scipy.stats.pearsonr(temp_table['person_id'], temp_table['4:Num_Editor'])[0])\n",
    "    graph.set_value(tp, '$N_a$', scipy.stats.pearsonr(temp_table['person_id'], temp_table['6:Num_Article'])[0])\n",
    "    graph.set_value(tp, '$N_e$', scipy.stats.pearsonr(temp_table['person_id'], temp_table['3:Num_Edit'])[0])\n",
    "    graph.set_value(tp, '$S$', scipy.stats.pearsonr(temp_table['person_id'], temp_table['7:Wiki_Size'])[0])\n",
    "    \n",
    "graph.index_name = \"Type\"\n",
    "axes[0,0].set_ylabel(\"Pearson correlation for $N_{ap}$\")\n",
    "axes[0,0].set_ylim((min(graph.values.min() * 1.2, graph.values.min() * 0.8), graph.values.max() * 1.2))\n",
    "graph.plot.bar(rot=40, width = 0.8, ax = axes[0,0])\n",
    "\n",
    "graph = pd.DataFrame(columns=[\"$N_p$\", \"$N_a$\", \"$N_e$\", \"$S$\"])\n",
    "for tp in types:\n",
    "    temp_table = applnstat[:][(applnstat[\"type\"] == tp) & (applnstat[\"lang_name\"] != \"\")& (applnstat[\"person_id\"].notnull())]\n",
    "    tp = types_map[tp]     \n",
    "    graph.set_value(tp, '$N_p$', scipy.stats.kendalltau(temp_table['person_id'], temp_table['4:Num_Editor'])[0])\n",
    "    graph.set_value(tp, '$N_a$', scipy.stats.kendalltau(temp_table['person_id'], temp_table['6:Num_Article'])[0])\n",
    "    graph.set_value(tp, '$N_e$', scipy.stats.kendalltau(temp_table['person_id'], temp_table['3:Num_Edit'])[0])\n",
    "    graph.set_value(tp, '$S$', scipy.stats.kendalltau(temp_table['person_id'], temp_table['7:Wiki_Size'])[0])\n",
    "\n",
    "graph.index_name = \"Type\"\n",
    "axes[1,0].set_ylabel(\"Kendall-tau for $N_{ap}$\")\n",
    "axes[1,0].set_ylim((min(graph.values.min() * 1.2, graph.values.min() * 0.8), graph.values.max() * 1.2))\n",
    "graph.plot.bar(rot=40, width = 0.8, ax = axes[1,0])\n",
    "\n",
    "graph = pd.DataFrame(columns=[\"$N_p$\", \"$N_a$\", \"$N_e$\", \"$S$\"])\n",
    "for tp in types:\n",
    "    temp_table = applnstat[:][(applnstat[\"type\"] == tp) & (applnstat[\"lang_name\"] != \"\")& (applnstat[\"appln_id\"].notnull())]\n",
    "    tp = types_map[tp]     \n",
    "    graph.set_value(tp, '$N_p$', scipy.stats.pearsonr(temp_table['appln_id'], temp_table['4:Num_Editor'])[0])\n",
    "    graph.set_value(tp, '$N_a$', scipy.stats.pearsonr(temp_table['appln_id'], temp_table['6:Num_Article'])[0])\n",
    "    graph.set_value(tp, '$N_e$', scipy.stats.pearsonr(temp_table['appln_id'], temp_table['3:Num_Edit'])[0])\n",
    "    graph.set_value(tp, '$S$', scipy.stats.pearsonr(temp_table['appln_id'], temp_table['7:Wiki_Size'])[0])\n",
    "    \n",
    "\n",
    "graph.index_name = \"Type\"\n",
    "axes[0,1].set_ylabel(\"Pearson correlation for $N_{pt}$\")\n",
    "axes[0,1].set_ylim((min(graph.values.min() * 1.2, graph.values.min() * 0.8), graph.values.max() * 1.2))\n",
    "graph.plot.bar(rot=40, width = 0.8, ax = axes[0,1])\n",
    "\n",
    "graph = pd.DataFrame(columns=[\"$N_p$\", \"$N_a$\", \"$N_e$\", \"$S$\"])\n",
    "for tp in types:\n",
    "    temp_table = applnstat[:][(applnstat[\"type\"] == tp) & (applnstat[\"lang_name\"] != \"\")& (applnstat[\"appln_id\"].notnull())]\n",
    "    tp = types_map[tp]     \n",
    "    graph.set_value(tp, '$N_p$', scipy.stats.kendalltau(temp_table['appln_id'], temp_table['4:Num_Editor'])[0])\n",
    "    graph.set_value(tp, '$N_a$', scipy.stats.kendalltau(temp_table['appln_id'], temp_table['6:Num_Article'])[0])\n",
    "    graph.set_value(tp, '$N_e$', scipy.stats.kendalltau(temp_table['appln_id'], temp_table['3:Num_Edit'])[0])\n",
    "    graph.set_value(tp, '$S$', scipy.stats.kendalltau(temp_table['appln_id'], temp_table['7:Wiki_Size'])[0])\n",
    "\n",
    "graph.index_name = \"Type\"\n",
    "axes[1,1].set_ylabel(\"Kendall-tau correlation for $N_{pt}$\")\n",
    "axes[1,1].set_ylim((min(graph.values.min() * 1.2, graph.values.min() * 0.8), graph.values.max() * 1.2))\n",
    "graph.plot.bar(rot=40, width = 0.8, ax = axes[1,1])\n",
    "\n",
    "patent_inventor = pd.DataFrame.from_csv(\"sup_r001_gini_inventor.csv\", sep = \"\\t\")\n",
    "patent_inventor\n",
    "\n",
    "invstat = wikistat.merge(patent_inventor, left_on = \"ISO2\", right_on = \"appln_auth\")\n",
    "graph = pd.DataFrame(columns=[\"$N_p$\", \"$N_a$\", \"$N_e$\", \"$S$\"])\n",
    "for tp in types:\n",
    "    temp_table = invstat[:][(invstat[\"type\"] == tp) & (invstat[\"lang_name\"] != \"\")& (invstat[\"person_id\"].notnull())]\n",
    "    tp = types_map[tp]     \n",
    "    graph.set_value(tp, '$N_p$', scipy.stats.pearsonr(temp_table['person_id'], temp_table['4:Num_Editor'])[0])\n",
    "    graph.set_value(tp, '$N_a$', scipy.stats.pearsonr(temp_table['person_id'], temp_table['6:Num_Article'])[0])\n",
    "    graph.set_value(tp, '$N_e$', scipy.stats.pearsonr(temp_table['person_id'], temp_table['3:Num_Edit'])[0])\n",
    "    graph.set_value(tp, '$S$', scipy.stats.pearsonr(temp_table['person_id'], temp_table['7:Wiki_Size'])[0])\n",
    "    \n",
    "graph.index_name = \"Type\"\n",
    "axes[0,2].set_ylabel(\"Pearson correlation for $N_{iv}$\")\n",
    "axes[0,2].set_ylim((min(graph.values.min() * 1.2, graph.values.min() * 0.8), graph.values.max() * 1.2))\n",
    "graph.plot.bar(rot=40, width = 0.8, ax = axes[0,2])\n",
    "\n",
    "graph = pd.DataFrame(columns=[\"$N_p$\", \"$N_a$\", \"$N_e$\", \"$S$\"])\n",
    "for tp in types:\n",
    "    temp_table = invstat[:][(invstat[\"type\"] == tp) & (invstat[\"lang_name\"] != \"\")& (invstat[\"person_id\"].notnull())]\n",
    "    tp = types_map[tp]     \n",
    "    graph.set_value(tp, '$N_p$', scipy.stats.kendalltau(temp_table['person_id'], temp_table['4:Num_Editor'])[0])\n",
    "    graph.set_value(tp, '$N_a$', scipy.stats.kendalltau(temp_table['person_id'], temp_table['6:Num_Article'])[0])\n",
    "    graph.set_value(tp, '$N_e$', scipy.stats.kendalltau(temp_table['person_id'], temp_table['3:Num_Edit'])[0])\n",
    "    graph.set_value(tp, '$S$', scipy.stats.kendalltau(temp_table['person_id'], temp_table['7:Wiki_Size'])[0])\n",
    "\n",
    "graph.index_name = \"Type\"\n",
    "axes[1,2].set_ylabel(\"Kendall-tau correlation for $N_{iv}$\")\n",
    "axes[1,2].set_ylim((min(graph.values.min() * 1.2, graph.values.min() * 0.8), graph.values.max() * 1.2))\n",
    "graph.plot.bar(rot=40, width = 0.8, ax = axes[1,2])\n",
    "\n",
    "index = 0\n",
    "labellist = [\"a\", \"b\", \"c\", \"d\", \"e\", \"f\", \"g\", \"h\"]\n",
    "for ax in fig.get_axes():\n",
    "    ax.get_yaxis().set_label_coords(-0.1,0.5)\n",
    "    ax.yaxis.label.set_fontsize(14)\n",
    "    ax.tick_params(axis='x', labelsize=14)\n",
    "    for tick in ax.xaxis.get_majorticklabels():\n",
    "        tick.set_horizontalalignment(\"right\")\n",
    "    ax.legend(loc=2, ncol=4)\n",
    "    ax.set_ylim(-0.3, 1.2)\n",
    "    ax.axhline(0, color='black', lw=1)    \n",
    "    ax.text(-0.15, 0.95, labellist[index], fontsize=14, weight='bold', transform=ax.transAxes)\n",
    "    SHIFT = 0.1\n",
    "    index += 1\n",
    "\n",
    "\n",
    "plt.tight_layout()\n",
    "plt.savefig(\"FIG_SUP_017.pdf)\n",
    "\n",
    "plt.show()"
   ]
  },
  {
   "cell_type": "code",
   "execution_count": null,
   "metadata": {
    "scrolled": false
   },
   "outputs": [],
   "source": [
    "paper_author = pd.DataFrame.from_csv(\"./data/sup_r002_gini_scopus_paper.csv\", sep = \"\\t\")\n",
    "paperstat = wikistat.merge(paper_author, left_on = \"ISO3\", right_on = \"af_country\")\n",
    "paperstat\n",
    "\n",
    "fig, axes = plt.subplots(nrows=2, ncols=2, figsize=(10,10))\n",
    "\n",
    "graph = pd.DataFrame(columns=[\"$N_p$\", \"$N_a$\", \"$N_e$\", \"$S$\"])\n",
    "for tp in types:\n",
    "    temp_table = paperstat[:][(paperstat[\"type\"] == tp) & (paperstat[\"lang_name\"] != \"\")& (paperstat[\"auid\"].notnull())]\n",
    "    tp = types_map[tp]        \n",
    "    graph.set_value(tp, '$N_p$', scipy.stats.pearsonr(temp_table['auid'], temp_table['4:Num_Editor'])[0])\n",
    "    graph.set_value(tp, '$N_a$', scipy.stats.pearsonr(temp_table['auid'], temp_table['6:Num_Article'])[0])\n",
    "    graph.set_value(tp, '$N_e$', scipy.stats.pearsonr(temp_table['auid'], temp_table['3:Num_Edit'])[0])\n",
    "    graph.set_value(tp, '$S$', scipy.stats.pearsonr(temp_table['auid'], temp_table['7:Wiki_Size'])[0])\n",
    "    \n",
    "    \n",
    "graph.index_name = \"Type\"\n",
    "axes[0,0].set_ylabel(\"Pearson correlation for $N_{au}$\")\n",
    "axes[0,0].set_ylim((min(graph.values.min() * 1.2, graph.values.min() * 0.8), graph.values.max() * 1.2))\n",
    "graph.plot.bar(rot=40, width = 0.8, ax = axes[0,0])\n",
    "\n",
    "graph = pd.DataFrame(columns=[\"$N_p$\", \"$N_a$\", \"$N_e$\", \"$S$\"])\n",
    "for tp in types:\n",
    "    temp_table = paperstat[:][(paperstat[\"type\"] == tp) & (paperstat[\"lang_name\"] != \"\")& (paperstat[\"auid\"].notnull())]\n",
    "    tp = types_map[tp]        \n",
    "    graph.set_value(tp, '$N_p$', scipy.stats.kendalltau(temp_table['auid'], temp_table['4:Num_Editor'])[0])\n",
    "    graph.set_value(tp, '$N_a$', scipy.stats.kendalltau(temp_table['auid'], temp_table['6:Num_Article'])[0])\n",
    "    graph.set_value(tp, '$N_e$', scipy.stats.kendalltau(temp_table['auid'], temp_table['3:Num_Edit'])[0])\n",
    "    graph.set_value(tp, '$S$', scipy.stats.kendalltau(temp_table['auid'], temp_table['7:Wiki_Size'])[0])\n",
    "\n",
    "graph.index_name = \"Type\"\n",
    "axes[1,0].set_ylabel(\"Kendall-tau correlation for $N_{au}$\")\n",
    "axes[1,0].set_ylim((min(graph.values.min() * 1.2, graph.values.min() * 0.8), graph.values.max() * 1.2))\n",
    "graph.plot.bar(rot=40, width = 0.8, ax = axes[1,0])\n",
    "\n",
    "\n",
    "print types\n",
    "graph = pd.DataFrame(columns=[\"$N_p$\", \"$N_a$\", \"$N_e$\", \"$S$\"])\n",
    "for tp in types:\n",
    "    temp_table = paperstat[:][(paperstat[\"type\"] == tp) & (paperstat[\"lang_name\"] != \"\")& (paperstat[\"eid\"].notnull())]\n",
    "    tp = types_map[tp]        \n",
    "    graph.set_value(tp, '$N_p$', scipy.stats.pearsonr(temp_table['eid'], temp_table['4:Num_Editor'])[0])\n",
    "    graph.set_value(tp, '$N_a$', scipy.stats.pearsonr(temp_table['eid'], temp_table['6:Num_Article'])[0])\n",
    "    graph.set_value(tp, '$N_e$', scipy.stats.pearsonr(temp_table['eid'], temp_table['3:Num_Edit'])[0])\n",
    "    graph.set_value(tp, '$S$', scipy.stats.pearsonr(temp_table['eid'], temp_table['7:Wiki_Size'])[0])\n",
    "    \n",
    "graph.index_name = \"Type\"\n",
    "axes[0,1].set_ylabel(\"Pearson correlation for $N_{ar}$\")\n",
    "axes[0,1].set_ylim((min(graph.values.min() * 1.2, graph.values.min() * 0.8), graph.values.max() * 1.2))\n",
    "graph.plot.bar(rot=40, width = 0.8, ax = axes[0,1])\n",
    "\n",
    "\n",
    "graph = pd.DataFrame(columns=[\"$N_p$\", \"$N_a$\", \"$N_e$\", \"$S$\"])\n",
    "for tp in types:\n",
    "    temp_table = paperstat[:][(paperstat[\"type\"] == tp) & (paperstat[\"lang_name\"] != \"\")& (paperstat[\"eid\"].notnull())]\n",
    "    tp = types_map[tp]         \n",
    "    graph.set_value(tp, '$N_p$', scipy.stats.kendalltau(temp_table['eid'], temp_table['4:Num_Editor'])[0])\n",
    "    graph.set_value(tp, '$N_a$', scipy.stats.kendalltau(temp_table['eid'], temp_table['6:Num_Article'])[0])\n",
    "    graph.set_value(tp, '$N_e$', scipy.stats.kendalltau(temp_table['eid'], temp_table['3:Num_Edit'])[0])\n",
    "    graph.set_value(tp, '$S$', scipy.stats.kendalltau(temp_table['eid'], temp_table['7:Wiki_Size'])[0])\n",
    "\n",
    "graph.index_name = \"Type\"\n",
    "axes[1,1].set_ylabel(\"Kendall-tau correlation for $N_{ar}$\")\n",
    "axes[1,1].set_ylim((min(graph.values.min() * 1.2, graph.values.min() * 0.8), graph.values.max() * 1.2))\n",
    "graph.plot.bar(rot=40, width = 0.8, ax = axes[1,1])\n",
    "\n",
    "index = 0\n",
    "labellist = [\"a\", \"b\", \"c\", \"d\", \"e\", \"f\", \"g\", \"h\"]\n",
    "for ax in fig.get_axes():\n",
    "    ax.get_yaxis().set_label_coords(-0.1,0.5)\n",
    "    ax.yaxis.label.set_fontsize(14)\n",
    "    ax.tick_params(axis='x', labelsize=14)\n",
    "    for tick in ax.xaxis.get_majorticklabels():\n",
    "        tick.set_horizontalalignment(\"right\")\n",
    "    ax.legend(loc=2, ncol=4)\n",
    "    ax.set_ylim(-0.3, 1.2)\n",
    "    ax.axhline(0, color='black', lw=1)    \n",
    "    ax.text(-0.15, 0.95, labellist[index], fontsize=14, weight='bold', transform=ax.transAxes)\n",
    "    SHIFT = 0.1\n",
    "    index += 1\n",
    "\n",
    "    \n",
    "\n",
    "    \n",
    "plt.tight_layout()\n",
    "plt.savefig(\"FIG_SUP_018.pdf)\n",
    "plt.show()\n"
   ]
  },
  {
   "cell_type": "code",
   "execution_count": null,
   "metadata": {
    "collapsed": true
   },
   "outputs": [],
   "source": []
  }
 ],
 "metadata": {
  "kernelspec": {
   "display_name": "Python 2",
   "language": "python",
   "name": "python2"
  },
  "language_info": {
   "codemirror_mode": {
    "name": "ipython",
    "version": 2
   },
   "file_extension": ".py",
   "mimetype": "text/x-python",
   "name": "python",
   "nbconvert_exporter": "python",
   "pygments_lexer": "ipython2",
   "version": "2.7.15"
  }
 },
 "nbformat": 4,
 "nbformat_minor": 2
}
